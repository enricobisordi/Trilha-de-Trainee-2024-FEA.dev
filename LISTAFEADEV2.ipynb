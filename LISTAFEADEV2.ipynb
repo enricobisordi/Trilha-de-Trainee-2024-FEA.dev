{
 "cells": [
  {
   "cell_type": "markdown",
   "id": "a55f5f24",
   "metadata": {
    "id": "a55f5f24"
   },
   "source": [
    "![WhatsApp%20Image%202023-09-10%20at%2011.20.28.jpeg](attachment:WhatsApp%20Image%202023-09-10%20at%2011.20.28.jpeg)"
   ]
  },
  {
   "cell_type": "markdown",
   "id": "5bf28a15",
   "metadata": {
    "id": "5bf28a15"
   },
   "source": [
    "# Fala devs, blz??\n",
    "\n",
    "Esta será nossa segunda lista de exercícios para você praticar os temas abordados no MÓDULO 3:\n",
    "\n",
    "-Condicionais\n",
    "\n",
    "\n",
    "-Loops"
   ]
  },
  {
   "cell_type": "markdown",
   "id": "770a4249",
   "metadata": {
    "id": "770a4249"
   },
   "source": [
    "## INSTRUÇÕES:\n",
    "\n",
    "A lista deve ser realizada pelo Jupyter Notebook.\n",
    "\n",
    "Nâo é necessário entregar a lista para afins de certificado dentro da plataforma, entretanto para alunos da USP que queiram participar do processo seletivo ou conseguir créditos AAC (apenas FEANOS) é necessária a entrega de TODAS as listas.\n",
    "\n",
    "A entrega das listas ou pelo menos sua excecução é recomendada a fim de exercitar todo o conhecimento adquirido do curso.\n",
    "\n",
    "O DESAFIO é para realmente te desafiar, por isso não desista de tentar e de continuar com o curso, ao longo das listas você verá que cada vez mais você terá ferramentas para completá-lo.\n",
    "\n",
    "Caso haja alguma dúvida acerca da lista participe das monitorias que serão oferecidas as quintas e sábados das 17h as 18h pelo DISCORD. Caso seu problema não seje resolvido envie uma mensagem para contato.feadev@gmail.com\n",
    "\n",
    "O gabarito será disponibilizado na plataforma após o término de periodo de envio"
   ]
  },
  {
   "cell_type": "code",
   "execution_count": null,
   "id": "1b50acbe",
   "metadata": {
    "colab": {
     "base_uri": "https://localhost:8080/"
    },
    "executionInfo": {
     "elapsed": 257,
     "status": "ok",
     "timestamp": 1716663027640,
     "user": {
      "displayName": "Enrico Exel Bisordi",
      "userId": "18170178870266591868"
     },
     "user_tz": 180
    },
    "id": "1b50acbe",
    "outputId": "6bf2a897-207f-43dc-8515-b429b5a8f68b"
   },
   "outputs": [
    {
     "name": "stdout",
     "output_type": "stream",
     "text": [
      "Claro!\n"
     ]
    }
   ],
   "source": [
    "## vamos programar??\n",
    "\n",
    "print('Claro!')"
   ]
  },
  {
   "cell_type": "markdown",
   "id": "fa494e4c",
   "metadata": {
    "id": "fa494e4c"
   },
   "source": [
    "## QUESTÃO 0"
   ]
  },
  {
   "cell_type": "markdown",
   "id": "e0c77e25",
   "metadata": {
    "id": "e0c77e25"
   },
   "source": [
    "Escreva um programa em Python que solicite ao usuário que insira o número do seu endereço e, em seguida, verifique se sua casa fica do lado esquerda ou direito da rua. Se sua casa fica do lado direito da rua. o programa deve imprimir \"LADO DIREITO\", se fica do lado esquerdo \"LADO ESQUERDO\"."
   ]
  },
  {
   "cell_type": "markdown",
   "id": "d9c719f5",
   "metadata": {
    "id": "d9c719f5"
   },
   "source": [
    "#### DICA\n",
    "\n",
    "Casas com endereço par se localizam do lado direito, casas com endereço impar do lado esquerdo"
   ]
  },
  {
   "cell_type": "markdown",
   "id": "bd2d5c6f",
   "metadata": {
    "id": "bd2d5c6f"
   },
   "source": [
    "#### LEMBRE-SE\n",
    "\n",
    "**int (Número Inteiro):**\n",
    "\n",
    "O tipo de dado int representa números inteiros, ou seja, números sem casas decimais.\n",
    "\n",
    "Exemplos de inteiros incluem -3, 0, 42, 1001, etc.\n",
    "\n",
    "Você pode realizar operações aritméticas, como adição, subtração, multiplicação e divisão, com números inteiros.\n",
    "\n",
    "**float (Número de Ponto Flutuante):**\n",
    "\n",
    "O tipo de dado float representa números de ponto flutuante, que têm casas decimais.\n",
    "\n",
    "Exemplos de números de ponto flutuante incluem 3.14, -0.5, 2.71828, etc.\n",
    "\n",
    "Você pode realizar operações aritméticas com números de ponto flutuante da mesma forma que com inteiros.\n",
    "\n",
    "**Quando precisar especificar qual tipo de número você aceitará na resposta utilize:**\n",
    "\n",
    "**numero = float(input(\"Digite um número: \"))**\n",
    "\n",
    "\n",
    "**numero = int(input(\"Digite um número: \"))**\n"
   ]
  },
  {
   "cell_type": "code",
   "execution_count": null,
   "id": "d68ab584",
   "metadata": {
    "colab": {
     "base_uri": "https://localhost:8080/"
    },
    "executionInfo": {
     "elapsed": 1443,
     "status": "ok",
     "timestamp": 1716663037377,
     "user": {
      "displayName": "Enrico Exel Bisordi",
      "userId": "18170178870266591868"
     },
     "user_tz": 180
    },
    "id": "d68ab584",
    "outputId": "d751d373-b44c-44d4-8ef1-a186001593ed"
   },
   "outputs": [
    {
     "name": "stdout",
     "output_type": "stream",
     "text": [
      "Digite um número: 12\n",
      "LADO DIREITO\n"
     ]
    }
   ],
   "source": [
    "#seu código começa aqui\n",
    "\n",
    "# Solicita ao usuário que insira o número do seu endereço\n",
    "\n",
    "endereço = int(input('Digite um número: '))\n",
    "\n",
    "# Verifica se o endereço é par ou impar\n",
    "# o operador % serve para obtermos o resto de uma divisão entre um número e outro. já que estamos testando, na primeira linha, se o número é par, endereço%2 deve devolver zero.\n",
    "\n",
    "if endereço % 2 == 0 :\n",
    "    print('LADO DIREITO')\n",
    "\n",
    "else:\n",
    "    print('LADO ESQUERDO')\n",
    "\n",
    "# vale notar que esse código ainda não faz nenhuma ressalva para quando o input não é de tipo int. se for um número decimal, uma string ou qualquer outra coisa o código dá erro."
   ]
  },
  {
   "cell_type": "markdown",
   "id": "6b941a9d",
   "metadata": {
    "id": "6b941a9d"
   },
   "source": [
    "## QUESTÃO 1"
   ]
  },
  {
   "cell_type": "markdown",
   "id": "a883afc0",
   "metadata": {
    "id": "a883afc0"
   },
   "source": [
    "Você está trabalhando como desenvolvedor para uma livraria, criando um site de venda. Os donos dessa livraria acreditam que saber se seus clientes são leitores fervorosos ou novatos é uma informação útil para os negovios. Se o cliente costuma ler mais de dois livros por mês, ele é um leitor fervoroso, se ele costuma ler dois ou menos livros por mês, ele é um leitor novato.\n",
    "\n",
    "Crie um programa em Python que peça ao cliente para digitar quantos livros ele costuma ler por mês, só aceitando números inteiros. Em seguita, verifique se o número é maior que 2. Caso seja, imprima \"Leitor fervoroso\". Se for igual a 2 ou menos, imprima \"Leitor novato\". Use uma estrutura if-else.\n",
    "\n",
    "\n",
    "\n",
    "lembre-se para pedir que o jogador insira um número você deve usar *input*"
   ]
  },
  {
   "cell_type": "markdown",
   "id": "f27a8b32",
   "metadata": {
    "id": "f27a8b32"
   },
   "source": [
    "A função input() em Python é usada para receber entradas de texto (ou outros tipos de dados, que são tratados como texto) do usuário através do teclado. Ela permite que um programa interaja com o usuário, solicitando que ele insira informações durante a execução do programa.\n",
    "\n",
    "A sintaxe básica do input() é a seguinte:"
   ]
  },
  {
   "cell_type": "code",
   "execution_count": null,
   "id": "666c004b",
   "metadata": {
    "id": "666c004b"
   },
   "outputs": [],
   "source": [
    "variavel = input(\"Texto da solicitação: \")\n"
   ]
  },
  {
   "cell_type": "markdown",
   "id": "cec1c657",
   "metadata": {
    "id": "cec1c657"
   },
   "source": [
    "\"Texto da solicitação\" é a mensagem que será exibida ao usuário, pedindo-lhe que insira algo.\n",
    "O valor digitado pelo usuário é armazenado na variável especificada (nesse caso, na variável variavel)."
   ]
  },
  {
   "cell_type": "markdown",
   "id": "d653c5a1",
   "metadata": {
    "id": "d653c5a1"
   },
   "source": [
    "![memes-o-efeito-dos-livros-v0-QIIJ1JHSfXKN1aWRT0II7Sq9DZXrI2dt6VhhomlbWKM.webp](attachment:memes-o-efeito-dos-livros-v0-QIIJ1JHSfXKN1aWRT0II7Sq9DZXrI2dt6VhhomlbWKM.webp)"
   ]
  },
  {
   "cell_type": "code",
   "execution_count": null,
   "id": "39c83fa8",
   "metadata": {
    "colab": {
     "base_uri": "https://localhost:8080/"
    },
    "executionInfo": {
     "elapsed": 959,
     "status": "ok",
     "timestamp": 1716663059069,
     "user": {
      "displayName": "Enrico Exel Bisordi",
      "userId": "18170178870266591868"
     },
     "user_tz": 180
    },
    "id": "39c83fa8",
    "outputId": "391172cd-e73d-4e99-c3f5-b0a9d782d8df"
   },
   "outputs": [
    {
     "name": "stdout",
     "output_type": "stream",
     "text": [
      "Quantos livros você lê por dia? 2\n",
      "Leitor novato\n"
     ]
    }
   ],
   "source": [
    "#seu código começa aqui\n",
    "\n",
    "livros = int(input('Quantos livros você lê por dia? '))   # utilizei int, já que como solicitado pelo exercício, só aceitaremos números inteiros.\n",
    "\n",
    "if livros > 2:\n",
    "  print('Leitor fervoroso')\n",
    "else:\n",
    "  print('Leitor novato')\n",
    "\n",
    "# esse código recebe a variável livros como input, e utiliza uma estrutura condicional para determinar se o leitor é fervoroso ou novato."
   ]
  },
  {
   "cell_type": "markdown",
   "id": "ca9742ad",
   "metadata": {
    "id": "ca9742ad"
   },
   "source": [
    "## QUESTÃO 2"
   ]
  },
  {
   "cell_type": "markdown",
   "id": "37c1af5f",
   "metadata": {
    "id": "37c1af5f"
   },
   "source": [
    " Você deseja criar um programa que ajude os investidores a entender qual é a alíquota de imposto que irão pagar em seus\n",
    "investimentos de renda fixa de acordo com o prazo do investimento.\n",
    "* Prazos do investimento e output esperados:*\n",
    ">Até 180 dias de investimento, 22,5%;\n",
    ">De 181 a 360 dias de investimento, 20%;\n",
    ">De 361 a 720 dias de investimento, 17,5%;\n",
    ">Acima de 720 dias, 15%."
   ]
  },
  {
   "cell_type": "code",
   "execution_count": null,
   "id": "1f17dbfb",
   "metadata": {
    "colab": {
     "base_uri": "https://localhost:8080/"
    },
    "executionInfo": {
     "elapsed": 2691,
     "status": "ok",
     "timestamp": 1716662900787,
     "user": {
      "displayName": "Enrico Exel Bisordi",
      "userId": "18170178870266591868"
     },
     "user_tz": 180
    },
    "id": "1f17dbfb",
    "outputId": "6cd3cbf8-570a-4549-df8e-5d0540fc7b6e"
   },
   "outputs": [
    {
     "name": "stdout",
     "output_type": "stream",
     "text": [
      "Qual o prazo do seu investimento, em dias? 200\n",
      "A sua alíquota de imposto é de 17,5%\n"
     ]
    }
   ],
   "source": [
    "# seu código começa aqui\n",
    "\n",
    "x = int(input('Qual o prazo do seu investimento, em dias? '))\n",
    "\n",
    "if x <= 180:\n",
    "  print('A sua alíquota de imposto é de 22,5%')\n",
    "elif 180 < x <= 360:\n",
    "  print('A sua alíquota de imposto é de 17,5%')\n",
    "else:\n",
    "  print('A sua alíquota de imposto é de 15%')\n",
    "\n",
    "# esse código toma como input a variável x, que estamos utilizando como int já que são números inteiros de dias, e, baseado em uma estrutura condicional if, elif e else determina a alíquota adequada."
   ]
  },
  {
   "cell_type": "markdown",
   "id": "a416e4c6",
   "metadata": {
    "id": "a416e4c6"
   },
   "source": [
    "## QUESTÃO 3"
   ]
  },
  {
   "cell_type": "markdown",
   "id": "7637978a",
   "metadata": {
    "id": "7637978a"
   },
   "source": [
    "Um novo mercado abriu perto da sua casa e você resolve ir lá para fazer suas comprar e conhecer o lugar. O problema é, você\n",
    "está em dúvida do que comprar e do que não comprar.\n",
    "- Escreva um programa que retorne se você deverá comprar ou não certo alimento, considerando que:\n",
    "  - Ele precisa estar na sua lista de comprar;\n",
    "  - O preço do sebo deve ser mais barato do que no mercado que você costuma ir."
   ]
  },
  {
   "cell_type": "markdown",
   "id": "f6b72b84",
   "metadata": {
    "id": "f6b72b84"
   },
   "source": [
    "a) Você deverá comprar berinjela?\n",
    "\n",
    "b) Você deverá comprar grão de bico?\n",
    "\n",
    "c) Você deverá comprar repolho em conserva?"
   ]
  },
  {
   "cell_type": "markdown",
   "id": "0c51de37",
   "metadata": {
    "id": "0c51de37"
   },
   "source": [
    "![e6bbe395738986e7d9ce95ba7230d17fd50c5546c64059c801cf429999ae08e3_1.jpg](attachment:e6bbe395738986e7d9ce95ba7230d17fd50c5546c64059c801cf429999ae08e3_1.jpg)"
   ]
  },
  {
   "cell_type": "code",
   "execution_count": null,
   "id": "15e52fd9",
   "metadata": {
    "colab": {
     "base_uri": "https://localhost:8080/"
    },
    "executionInfo": {
     "elapsed": 3,
     "status": "ok",
     "timestamp": 1716664427656,
     "user": {
      "displayName": "Enrico Exel Bisordi",
      "userId": "18170178870266591868"
     },
     "user_tz": 180
    },
    "id": "15e52fd9",
    "outputId": "b299e169-4bc8-43bc-897e-92afbbc6a174"
   },
   "outputs": [
    {
     "name": "stdout",
     "output_type": "stream",
     "text": [
      "Você não deve comprar berinjela. O preço no novo mercado é mais caro.\n",
      "Você não deve comprar cerveja. O preço no novo mercado é mais caro.\n",
      "Você não deve comprar miojo. O preço no novo mercado é mais caro.\n",
      "Você deve comprar grão de bico. O preço no novo mercado é mais barato.\n",
      "Você deve comprar energético. O preço no novo mercado é mais barato.\n",
      "repolho em conserva não está disponível em pelo menos um dos mercados.\n",
      "Você deve comprar repolho. O preço no novo mercado é mais barato.\n"
     ]
    }
   ],
   "source": [
    "lista = ['berinjela', 'cerveja', 'miojo', 'grão de bico', 'energético', 'repolho em conserva', 'repolho']\n",
    "\n",
    "precos_novo_mercado = {'berinjela':5, 'cerveja':3, 'miojo': 20, 'grão de bico':15, 'energético':18, 'repolho':30}\n",
    "precos_velho_mercado = {'berinjela':3, 'cerveja':2, 'miojo': 10, 'grão de bico':22, 'energético':19, 'repolho':40}\n",
    "\n",
    "#####SEU CODIGO COMECA AQUI#####\n",
    "\n",
    "for item in lista: # vamos iterar a seguinte estrutura condicional para cada item na lista, utilizando um loop for:\n",
    "\n",
    "    if item in precos_novo_mercado and item in precos_velho_mercado: # caso o item esteja disponível em ambos os mercados, o código irá realizar a seguinte estrutura condicional:\n",
    "\n",
    "        if precos_novo_mercado[item] < precos_velho_mercado[item]: # aqui avaliamos o preço em cada mercado. caso seja mais barato no novo mercado, deve comprar, caso contrário, não.\n",
    "            print(f\"Você deve comprar {item}. O preço no novo mercado é mais barato.\")\n",
    "        else:\n",
    "            print(f\"Você não deve comprar {item}. O preço no novo mercado é mais caro.\")\n",
    "\n",
    "    else: # para o caso do repolho em conserva, que não está disponível em nenhum mercado\n",
    "        print(f\"{item} não está disponível em pelo menos um dos mercados.\")"
   ]
  },
  {
   "cell_type": "markdown",
   "id": "a4c1d513",
   "metadata": {
    "id": "a4c1d513"
   },
   "source": [
    "## QUESTÃO 4"
   ]
  },
  {
   "cell_type": "markdown",
   "id": "115e1037",
   "metadata": {
    "id": "115e1037"
   },
   "source": [
    "Você está criando um jogo de adivinhação\n",
    "\n",
    "O programa deve gerar um número aleatório entre 1 e 10.\n",
    "Dica: você pode usar a função random.randint(a, b) em Python para gerar o número aleatório.\n",
    "\n",
    "O programa deve pedir ao usuário para adivinhar o número.\n",
    "\n",
    "Se o número digitado pelo usuário for igual ao número gerado pelo computador, o programa deve exibir a mensagem \"Parabéns, você acertou!\".\n",
    "Caso contrário, o programa deve exibir a mensagem \"Errou! O número correto era [número gerado pelo computador]\".\n",
    "\n",
    "Dica: Use a estrutura if-else para fazer a comparação entre os números."
   ]
  },
  {
   "cell_type": "markdown",
   "id": "a3e694e2",
   "metadata": {
    "id": "a3e694e2"
   },
   "source": [
    "![Screenshot%202022-04-25%20at%208.44.53%20PM.png](attachment:Screenshot%202022-04-25%20at%208.44.53%20PM.png)"
   ]
  },
  {
   "cell_type": "code",
   "execution_count": null,
   "id": "1ba20e46",
   "metadata": {
    "colab": {
     "base_uri": "https://localhost:8080/"
    },
    "executionInfo": {
     "elapsed": 2590,
     "status": "ok",
     "timestamp": 1716663439326,
     "user": {
      "displayName": "Enrico Exel Bisordi",
      "userId": "18170178870266591868"
     },
     "user_tz": 180
    },
    "id": "1ba20e46",
    "outputId": "4a57612c-39c5-4fe4-8628-262108755fbe"
   },
   "outputs": [
    {
     "name": "stdout",
     "output_type": "stream",
     "text": [
      "Advinhe um número! 6\n",
      "Errou! O número correto era 7\n"
     ]
    }
   ],
   "source": [
    "#####SEU CODIGO COMECA AQUI#####\n",
    "\n",
    "import random # importando a biblioteca a ser utilizada\n",
    "\n",
    "a = random.randint(1,10)\n",
    "b = int(input('Advinhe um número! '))  # definindo a e b como o número aleatório e o input do usuário, respectivamente\n",
    "\n",
    "if a == b: # essa estrutura condicional utiliza == para comparar a e b, e printa uma mensagem de acerto caso haja correspondência\n",
    "  print('Parabéns, você acertou!')\n",
    "else: # caso os números não batam, o código printa um erro:\n",
    "  print(f'Errou! O número correto era {a}')"
   ]
  },
  {
   "cell_type": "markdown",
   "id": "d4b34289",
   "metadata": {
    "id": "d4b34289"
   },
   "source": [
    "## QUESTÃO 5"
   ]
  },
  {
   "cell_type": "markdown",
   "id": "c06ff65a",
   "metadata": {
    "id": "c06ff65a"
   },
   "source": [
    "Escreva um programa em Python que use um loop para imprimir os elementos de uma lista.\n",
    "\n",
    "Dica: uso a função len(nome_da_lista) para saber quantos elementos a lista tem."
   ]
  },
  {
   "cell_type": "code",
   "execution_count": null,
   "id": "f6f72146",
   "metadata": {
    "id": "f6f72146"
   },
   "outputs": [],
   "source": [
    "lista = ['E','u','_','a','m','o','_','p','r','o','g','r','a','m','a','r']"
   ]
  },
  {
   "cell_type": "markdown",
   "id": "3133af94",
   "metadata": {
    "id": "3133af94"
   },
   "source": [
    "A saída do programa deve ser algo como:\n",
    "    \n",
    "E u _ a m o _ p r o g r a m a r\n",
    "\n"
   ]
  },
  {
   "cell_type": "code",
   "execution_count": null,
   "id": "1fcf49d0",
   "metadata": {
    "colab": {
     "base_uri": "https://localhost:8080/"
    },
    "executionInfo": {
     "elapsed": 2,
     "status": "ok",
     "timestamp": 1716664128274,
     "user": {
      "displayName": "Enrico Exel Bisordi",
      "userId": "18170178870266591868"
     },
     "user_tz": 180
    },
    "id": "1fcf49d0",
    "outputId": "bdf410a8-eaee-4df2-8180-aa8af6114239"
   },
   "outputs": [
    {
     "name": "stdout",
     "output_type": "stream",
     "text": [
      "E u _ a m o _ p r o g r a m a r "
     ]
    }
   ],
   "source": [
    "lista = ['E','u','_','a','m','o','_','p','r','o','g','r','a','m','a','r']\n",
    "\n",
    "#####SEU CODIGO COMECA AQUI#####\n",
    "\n",
    "# o que esse loop faz é, para cada a no range de 0 até o número do comprimento dessa lista, printar o elemento da lista respectivo ao valor de a, repetidamente.\n",
    "for a in range(0, len(lista)):\n",
    "    print(lista[a], end=' ')\n",
    "\n",
    "# vale ressaltar que esse end serve para terminar cada imprimir o elemento na posição a da lista seguido por um espaço, sem quebrar a linha."
   ]
  },
  {
   "cell_type": "markdown",
   "id": "7a8e10e6",
   "metadata": {
    "id": "7a8e10e6"
   },
   "source": [
    "## QUESTÃO 6"
   ]
  },
  {
   "cell_type": "markdown",
   "id": "82625671",
   "metadata": {
    "id": "82625671"
   },
   "source": [
    "O número π foi calculado com uma precisão de 62,8 trilhões de casas decimais! 1.\n",
    "Esse recorde mundial foi batido no dia 14/08/2021 pela Universidade de Ciências Aplicadas de Graubünden.\n",
    "para fazer o download de todos os dígitos de π, você precisará de um disco rígido de 64 Terabytes!\n",
    "\n",
    "Aqui está o O número π com 42 casas decimais\n",
    "\n",
    "Faça um programa que irá percorrer O número π e dizer quantos algorismo decimais são pares e quanto com ímpares.\n",
    "\n",
    "Dica: utilize a lógica de loops junto com a lógica das condicionais!"
   ]
  },
  {
   "cell_type": "markdown",
   "id": "ff0e401e",
   "metadata": {
    "id": "ff0e401e"
   },
   "source": [
    "![pi-destaque.jpg](attachment:pi-destaque.jpg)"
   ]
  },
  {
   "cell_type": "code",
   "execution_count": null,
   "id": "8faa67db",
   "metadata": {
    "colab": {
     "base_uri": "https://localhost:8080/"
    },
    "executionInfo": {
     "elapsed": 249,
     "status": "ok",
     "timestamp": 1716664557493,
     "user": {
      "displayName": "Enrico Exel Bisordi",
      "userId": "18170178870266591868"
     },
     "user_tz": 180
    },
    "id": "8faa67db",
    "outputId": "760217a9-6554-4a67-c4bf-1532bdadee93"
   },
   "outputs": [
    {
     "name": "stdout",
     "output_type": "stream",
     "text": [
      "A quantidade de algarismos pares é 19 e a quantidade de algarismos ímpares é 23\n"
     ]
    }
   ],
   "source": [
    "pi = '3.141592653589793238462643383279502884197169'\n",
    "pi_decimal = '141592653589793238462643383279502884197169'\n",
    "\n",
    "#####SEU CODIGO COMECA AQUI#####\n",
    "\n",
    "par = 0\n",
    "impar = 0 # começamos definindo as variáveis par e impar, inicialmente iguais a zero.\n",
    "\n",
    "for digito in pi_decimal: # iterando para cada dígito em pi_decimal:\n",
    "\n",
    "    if int(digito) % 2 == 0: # mesma lógica do operador % utilizada no exercício 0.\n",
    "      par = par + 1 # caso seja par, some 1 à variável par\n",
    "    else:\n",
    "      impar = impar + 1 # caso seja impar, some 1 à variável ímpar\n",
    "\n",
    "# printando os valores finais:\n",
    "print(f\"A quantidade de algarismos pares é {par} e a quantidade de algarismos ímpares é {impar}\")"
   ]
  },
  {
   "cell_type": "markdown",
   "id": "3d1f7817",
   "metadata": {
    "id": "3d1f7817"
   },
   "source": [
    "## QUESTÃO 7"
   ]
  },
  {
   "cell_type": "markdown",
   "id": "f13d212b",
   "metadata": {
    "id": "f13d212b"
   },
   "source": [
    "O grande poder dos Loops é que você poder printar elementos em uma velocidade muuito maior. Utilize esse novo poder para printar os digitos de 1 a 9 da seguinte maneira:"
   ]
  },
  {
   "cell_type": "code",
   "execution_count": null,
   "id": "57c1c4b4",
   "metadata": {
    "id": "57c1c4b4"
   },
   "outputs": [],
   "source": [
    "\"\"\"\n",
    "1\n",
    "22\n",
    "333\n",
    "4444\n",
    "55555\n",
    "666666\n",
    "7777777\n",
    "88888888\n",
    "999999999\n",
    "\"\"\""
   ]
  },
  {
   "cell_type": "code",
   "execution_count": null,
   "id": "f8d7bf01",
   "metadata": {
    "colab": {
     "base_uri": "https://localhost:8080/"
    },
    "executionInfo": {
     "elapsed": 238,
     "status": "ok",
     "timestamp": 1716664704457,
     "user": {
      "displayName": "Enrico Exel Bisordi",
      "userId": "18170178870266591868"
     },
     "user_tz": 180
    },
    "id": "f8d7bf01",
    "outputId": "fdcadec5-4f05-460a-8f27-3d388e2d968e"
   },
   "outputs": [
    {
     "name": "stdout",
     "output_type": "stream",
     "text": [
      "1\n",
      "22\n",
      "333\n",
      "4444\n",
      "55555\n",
      "666666\n",
      "7777777\n",
      "88888888\n",
      "999999999\n"
     ]
    }
   ],
   "source": [
    "#####SEU CODIGO COMECA AQUI#####\n",
    "\n",
    "for a in range(1, 10): # o que esse loop está dizendo é: para cada a entre 1 e 10, imprima a string a, a vezes. por exemplo, o código imprime 1 uma vez, 2, duas vezes etc.\n",
    "    print(str(a) * a)"
   ]
  },
  {
   "cell_type": "markdown",
   "id": "4c0b62d9",
   "metadata": {
    "id": "4c0b62d9"
   },
   "source": [
    "## QUESTÃO 8"
   ]
  },
  {
   "cell_type": "markdown",
   "id": "759ad307",
   "metadata": {
    "id": "759ad307"
   },
   "source": [
    "Escreva um programa que imprima todos os números primos compreendidos entre dois valores fornecidos pelo usuário.\n",
    "\n",
    "Dicas:\n",
    "\n",
    "Um número primo é aquele que é divisível apenas por 1 e por ele mesmo.\n",
    "Utilize um loop for para percorrer todos os valores entre o valor inicial e o valor final fornecidos pelo usuário.\n",
    "Se o número for primo, imprima-o."
   ]
  },
  {
   "cell_type": "markdown",
   "id": "0885ce29",
   "metadata": {
    "id": "0885ce29"
   },
   "source": [
    "![5175043.jpg](attachment:5175043.jpg)"
   ]
  },
  {
   "cell_type": "code",
   "execution_count": null,
   "id": "b74e6d01",
   "metadata": {
    "colab": {
     "base_uri": "https://localhost:8080/"
    },
    "executionInfo": {
     "elapsed": 4778,
     "status": "ok",
     "timestamp": 1716665956846,
     "user": {
      "displayName": "Enrico Exel Bisordi",
      "userId": "18170178870266591868"
     },
     "user_tz": 180
    },
    "id": "b74e6d01",
    "outputId": "76061111-158f-4976-a300-54b36fbf63d9"
   },
   "outputs": [
    {
     "name": "stdout",
     "output_type": "stream",
     "text": [
      "Digite o valor inicial: 1 \n",
      "Digite o valor final: 20\n",
      "[2, 3, 5, 7, 11, 13, 17, 19]\n"
     ]
    }
   ],
   "source": [
    "valor_inicial = int(input(\"Digite o valor inicial: \"))\n",
    "valor_final = int(input(\"Digite o valor final: \"))\n",
    "\n",
    "\n",
    "#####SEU CODIGO COMECA AQUI#####\n",
    "\n",
    "lista_primos = []\n",
    "\n",
    "for a in range(valor_inicial + 1, valor_final):\n",
    "# o exercício pede todos os primos ENTRE o intervalo, precisamos somar 1 no primeiro parâmetro da função range, para excluir o valor inicial em si. não precisamos fazer isso para o valor final, o python exclui naturalmente.\n",
    "\n",
    "    for b in range(2, a):\n",
    "        if a % b == 0:\n",
    "            break # caso seja encontrado um b nesse range, achamos outro divisor que não 1 nem o próprio a. concluímos que o número não é primo e seguimos para o próximo.\n",
    "    else:\n",
    "        # se nenhum divisor for encontrado, concluímos que 'a' é primo e é adicionado à lista de primos. obs, utilizei if a > 1 pq só existem primos maiores que 1, por definição matemática.\n",
    "        if a > 1:\n",
    "            lista_primos.append(a)\n",
    "\n",
    "# mostra a lista final com os resultados\n",
    "print(lista_primos)"
   ]
  },
  {
   "cell_type": "markdown",
   "id": "c5d925a8",
   "metadata": {
    "id": "c5d925a8"
   },
   "source": [
    "## QUESTÃO 9"
   ]
  },
  {
   "cell_type": "markdown",
   "id": "406b3fd7",
   "metadata": {
    "id": "406b3fd7"
   },
   "source": [
    "Criar um programa em Python que utilize o loop while para gerar a tabuada de um número digitado pelo usuário.\n",
    "\n",
    "O programa pede ao usuário para digitar um número.\n",
    "O programa gera a tabuada do número digitado, multiplicando-o por 1 até 10.\n",
    "O programa imprime a tabuada na tela\n"
   ]
  },
  {
   "cell_type": "markdown",
   "id": "723749c4",
   "metadata": {
    "id": "723749c4"
   },
   "source": [
    "Instruções:\n",
    "\n",
    "Peça ao usuário para digitar um número.\n",
    "Inicie um loop while que se repita de 1 a 10.\n",
    "Dentro do loop while:\n",
    "Multiplique o número digitado pelo contador do loop.\n",
    "Imprima o resultado  na tela."
   ]
  },
  {
   "cell_type": "markdown",
   "id": "0ed348cd",
   "metadata": {
    "id": "0ed348cd"
   },
   "source": [
    "![e45be16949640089f83d85dc36ce9756.jpg](attachment:e45be16949640089f83d85dc36ce9756.jpg)"
   ]
  },
  {
   "cell_type": "code",
   "execution_count": null,
   "id": "6641be11",
   "metadata": {
    "colab": {
     "base_uri": "https://localhost:8080/"
    },
    "executionInfo": {
     "elapsed": 2130,
     "status": "ok",
     "timestamp": 1716666329494,
     "user": {
      "displayName": "Enrico Exel Bisordi",
      "userId": "18170178870266591868"
     },
     "user_tz": 180
    },
    "id": "6641be11",
    "outputId": "bb502582-94da-40f2-e0e3-0f969fa4b54f"
   },
   "outputs": [
    {
     "name": "stdout",
     "output_type": "stream",
     "text": [
      "Qual o número desejado? 5\n",
      "5\n",
      "10\n",
      "15\n",
      "20\n",
      "25\n",
      "30\n",
      "35\n",
      "40\n",
      "45\n",
      "50\n"
     ]
    }
   ],
   "source": [
    "#####SEU CODIGO COMECA AQUI#####\n",
    "\n",
    "a = int(input('Qual o número desejado? '))\n",
    "\n",
    "contador = 1 # definimos um contador para o loop while.\n",
    "\n",
    "while contador <= 10: # enquanto este contador for menor ou igual que 10, printe a*contador:\n",
    "  print(a*contador)\n",
    "  contador = contador + 1 # incrementa 1 ao contador, isto é, passa para o próximo elemento da tabuada."
   ]
  },
  {
   "cell_type": "markdown",
   "id": "edf9df5c",
   "metadata": {
    "id": "edf9df5c"
   },
   "source": [
    "## DESAFIO"
   ]
  },
  {
   "cell_type": "markdown",
   "id": "444d8cc6",
   "metadata": {
    "id": "444d8cc6"
   },
   "source": [
    "Criar um jogo de adivinhação em Python que utilize o loop while para permitir que o jogador tente adivinhar um número secreto.\n",
    "\n",
    "Regras:\n",
    "\n",
    "-O programa define um número secreto aleatório entre 1 e 100.\n",
    "-O jogador tenta adivinhar o número secreto.\n",
    "-O programa informa se o palpite do jogador é maior ou menor que o número secreto.\n",
    "-O jogador tem 10 tentativas para adivinhar o número secreto.\n",
    "-Se o jogador adivinhar o número secreto antes de 10 tentativas, ele vence o jogo.\n",
    "-Se o jogador não adivinhar o número secreto em 10 tentativas, ele perde o jogo."
   ]
  },
  {
   "cell_type": "markdown",
   "id": "0cae1cbf",
   "metadata": {
    "id": "0cae1cbf"
   },
   "source": [
    "Dicas:\n",
    "    \n",
    "Importe a biblioteca random.\n",
    "Defina uma variável numero_secreto como um número aleatório entre 1 e 100.\n",
    "Defina uma variável tentativas como 0, que vai ser aumentada em 1 a cada tentativa errada"
   ]
  },
  {
   "cell_type": "code",
   "execution_count": 3,
   "id": "c6a2c9f9",
   "metadata": {
    "colab": {
     "base_uri": "https://localhost:8080/"
    },
    "executionInfo": {
     "elapsed": 16361,
     "status": "ok",
     "timestamp": 1716666693946,
     "user": {
      "displayName": "Enrico Exel Bisordi",
      "userId": "18170178870266591868"
     },
     "user_tz": 180
    },
    "id": "c6a2c9f9",
    "outputId": "4faab19f-f478-448d-eaef-b64ba0557441"
   },
   "outputs": [
    {
     "name": "stdin",
     "output_type": "stream",
     "text": [
      "Digite seu palpite:  20\n"
     ]
    },
    {
     "name": "stdout",
     "output_type": "stream",
     "text": [
      "O número secreto é maior.\n"
     ]
    },
    {
     "name": "stdin",
     "output_type": "stream",
     "text": [
      "Digite seu palpite:  40\n"
     ]
    },
    {
     "name": "stdout",
     "output_type": "stream",
     "text": [
      "O número secreto é menor.\n"
     ]
    },
    {
     "name": "stdin",
     "output_type": "stream",
     "text": [
      "Digite seu palpite:  30\n"
     ]
    },
    {
     "name": "stdout",
     "output_type": "stream",
     "text": [
      "O número secreto é maior.\n"
     ]
    },
    {
     "name": "stdin",
     "output_type": "stream",
     "text": [
      "Digite seu palpite:  35\n"
     ]
    },
    {
     "name": "stdout",
     "output_type": "stream",
     "text": [
      "O número secreto é maior.\n"
     ]
    },
    {
     "name": "stdin",
     "output_type": "stream",
     "text": [
      "Digite seu palpite:  37\n"
     ]
    },
    {
     "name": "stdout",
     "output_type": "stream",
     "text": [
      "O número secreto é menor.\n"
     ]
    },
    {
     "name": "stdin",
     "output_type": "stream",
     "text": [
      "Digite seu palpite:  36\n"
     ]
    },
    {
     "name": "stdout",
     "output_type": "stream",
     "text": [
      "Parabéns! Você acertou o número secreto 36 em 6 tentativas.\n"
     ]
    }
   ],
   "source": [
    "#####SEU CODIGO COMECA AQUI#####\n",
    "\n",
    "import random # já importamos random no exercício 4, mas para o código ficar completo.\n",
    "\n",
    "numero_secreto = random.randint(1, 100)\n",
    "\n",
    "tentativas = 0 # definindo o número de tentativas, inicialmente igual a 0. será o contador do nosso loop while.\n",
    "\n",
    "while tentativas < 10:\n",
    "\n",
    "    palpite = int(input(\"Digite seu palpite: \"))\n",
    "\n",
    "    tentativas = tentativas + 1 # incrementa 1 ao contador.\n",
    "\n",
    "    # utilizamos uma estrutura condicional para verificar se o palpite está igual, certo ou maior que o número aleatório\n",
    "    if palpite < numero_secreto:\n",
    "        print(\"O número secreto é maior.\")\n",
    "    elif palpite > numero_secreto:\n",
    "        print(\"O número secreto é menor.\")\n",
    "    else:\n",
    "        print(f\"Parabéns! Você acertou o número secreto {numero_secreto} em {tentativas} tentativas.\")\n",
    "        break # caso palpite == número_secreto, o jogo se encerra.\n",
    "else:\n",
    "    print(f\"Acabaram as tentativas. O número secreto era {numero_secreto}.\") # caso a variável tentativas exceda 10, o jogo acaba.\n",
    "\n"
   ]
  },
  {
   "cell_type": "markdown",
   "id": "94e90c5a",
   "metadata": {
    "id": "94e90c5a"
   },
   "source": [
    "### CURIOSIDADE\n",
    "\n",
    "Para criar um calendário em Python, você pode usar a biblioteca calendar que já está incluída na biblioteca padrão da linguagem. A biblioteca **calendar** fornece várias funções e classes para trabalhar com datas e calendários. Aqui está um exemplo simples de como criar um calendário de um mês específico em Python"
   ]
  },
  {
   "cell_type": "code",
   "execution_count": null,
   "id": "0374bc60",
   "metadata": {
    "id": "0374bc60",
    "outputId": "86e3b1d0-4934-4a12-e52d-bcd2db986890"
   },
   "outputs": [
    {
     "name": "stdout",
     "output_type": "stream",
     "text": [
      "    October 2023\n",
      "Mo Tu We Th Fr Sa Su\n",
      "                   1\n",
      " 2  3  4  5  6  7  8\n",
      " 9 10 11 12 13 14 15\n",
      "16 17 18 19 20 21 22\n",
      "23 24 25 26 27 28 29\n",
      "30 31\n",
      "\n"
     ]
    }
   ],
   "source": [
    "import calendar\n",
    "\n",
    "# Defina o ano e o mês desejados\n",
    "ano = 2023\n",
    "mes = 10  # Por exemplo, outubro\n",
    "\n",
    "# Crie um objeto de calendário\n",
    "cal = calendar.month(ano, mes)\n",
    "\n",
    "# Imprima o calendário\n",
    "print(cal)\n"
   ]
  },
  {
   "cell_type": "markdown",
   "id": "3cdff31e",
   "metadata": {
    "id": "3cdff31e"
   },
   "source": [
    "Neste exemplo, importamos a biblioteca calendar, definimos o ano e o mês desejados (neste caso, outubro de 2023) e, em seguida, usamos a função calendar.month(ano, mes) para criar o calendário desse mês específico. O calendário é retornado como uma string formatada e pode ser impresso no console.\n",
    "\n",
    "Você pode personalizar ainda mais a exibição do calendário usando as várias funções e métodos oferecidos pela biblioteca calendar, como calendar.weekday() para obter o dia da semana de uma data específica, ou calendar.setfirstweekday() para definir o primeiro dia da semana no calendário."
   ]
  }
 ],
 "metadata": {
  "colab": {
   "provenance": []
  },
  "kernelspec": {
   "display_name": "Python 3 (ipykernel)",
   "language": "python",
   "name": "python3"
  },
  "language_info": {
   "codemirror_mode": {
    "name": "ipython",
    "version": 3
   },
   "file_extension": ".py",
   "mimetype": "text/x-python",
   "name": "python",
   "nbconvert_exporter": "python",
   "pygments_lexer": "ipython3",
   "version": "3.12.2"
  }
 },
 "nbformat": 4,
 "nbformat_minor": 5
}
