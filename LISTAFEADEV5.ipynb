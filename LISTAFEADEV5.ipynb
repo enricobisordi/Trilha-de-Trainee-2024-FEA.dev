{
 "cells": [
  {
   "cell_type": "markdown",
   "metadata": {
    "id": "_T5Rw5T8O3wu"
   },
   "source": [
    "# Fala devs, blz??\n",
    "\n",
    "Esta será nossa quinta lista de exercícios para você testar seu conhecimento acerca do conteúdo do MÓDULO 3:\n",
    "\n",
    "-Pandas I"
   ]
  },
  {
   "cell_type": "markdown",
   "metadata": {
    "id": "51e4LJD2O3w3"
   },
   "source": [
    "Para esta lista de exercícios utilizaremos uma base de dados contendo informações sobre a performance de alunos em exames\n",
    ". A base de dados está disponível para download na plataforma Kaggle a partir do link abaixo:"
   ]
  },
  {
   "cell_type": "markdown",
   "metadata": {
    "id": "QGm21zAZO3w4"
   },
   "source": [
    "https://www.kaggle.com/datasets/spscientist/students-performance-in-exams"
   ]
  },
  {
   "cell_type": "markdown",
   "metadata": {
    "id": "xR5S0SfYO3w5"
   },
   "source": [
    "## QUESTÃO 0"
   ]
  },
  {
   "cell_type": "markdown",
   "metadata": {
    "id": "lVWBdknPO3w6"
   },
   "source": [
    "Carregue os dados do arquivo \"StudentPerformance.csv\" em um DataFrame com nome \"df\" e mostre as primeiras suas 10 primeiras linhas.\n",
    "<br>\n",
    "*Certifique-se de que o arquivo se encontra no mesmo diretorio da lista 5."
   ]
  },
  {
   "cell_type": "code",
   "execution_count": 105,
   "metadata": {
    "id": "k2L0TrvVO3w7",
    "outputId": "7e7a6ac9-3470-4416-f0ec-b73b778b75db"
   },
   "outputs": [
    {
     "data": {
      "text/html": [
       "<div>\n",
       "<style scoped>\n",
       "    .dataframe tbody tr th:only-of-type {\n",
       "        vertical-align: middle;\n",
       "    }\n",
       "\n",
       "    .dataframe tbody tr th {\n",
       "        vertical-align: top;\n",
       "    }\n",
       "\n",
       "    .dataframe thead th {\n",
       "        text-align: right;\n",
       "    }\n",
       "</style>\n",
       "<table border=\"1\" class=\"dataframe\">\n",
       "  <thead>\n",
       "    <tr style=\"text-align: right;\">\n",
       "      <th></th>\n",
       "      <th>gender</th>\n",
       "      <th>race/ethnicity</th>\n",
       "      <th>parental level of education</th>\n",
       "      <th>lunch</th>\n",
       "      <th>test preparation course</th>\n",
       "      <th>math score</th>\n",
       "      <th>reading score</th>\n",
       "      <th>writing score</th>\n",
       "    </tr>\n",
       "  </thead>\n",
       "  <tbody>\n",
       "    <tr>\n",
       "      <th>0</th>\n",
       "      <td>female</td>\n",
       "      <td>group B</td>\n",
       "      <td>bachelor's degree</td>\n",
       "      <td>standard</td>\n",
       "      <td>none</td>\n",
       "      <td>72</td>\n",
       "      <td>72</td>\n",
       "      <td>74</td>\n",
       "    </tr>\n",
       "    <tr>\n",
       "      <th>1</th>\n",
       "      <td>female</td>\n",
       "      <td>group C</td>\n",
       "      <td>some college</td>\n",
       "      <td>standard</td>\n",
       "      <td>completed</td>\n",
       "      <td>69</td>\n",
       "      <td>90</td>\n",
       "      <td>88</td>\n",
       "    </tr>\n",
       "    <tr>\n",
       "      <th>2</th>\n",
       "      <td>female</td>\n",
       "      <td>group B</td>\n",
       "      <td>master's degree</td>\n",
       "      <td>standard</td>\n",
       "      <td>none</td>\n",
       "      <td>90</td>\n",
       "      <td>95</td>\n",
       "      <td>93</td>\n",
       "    </tr>\n",
       "    <tr>\n",
       "      <th>3</th>\n",
       "      <td>male</td>\n",
       "      <td>group A</td>\n",
       "      <td>associate's degree</td>\n",
       "      <td>free/reduced</td>\n",
       "      <td>none</td>\n",
       "      <td>47</td>\n",
       "      <td>57</td>\n",
       "      <td>44</td>\n",
       "    </tr>\n",
       "    <tr>\n",
       "      <th>4</th>\n",
       "      <td>male</td>\n",
       "      <td>group C</td>\n",
       "      <td>some college</td>\n",
       "      <td>standard</td>\n",
       "      <td>none</td>\n",
       "      <td>76</td>\n",
       "      <td>78</td>\n",
       "      <td>75</td>\n",
       "    </tr>\n",
       "    <tr>\n",
       "      <th>5</th>\n",
       "      <td>female</td>\n",
       "      <td>group B</td>\n",
       "      <td>associate's degree</td>\n",
       "      <td>standard</td>\n",
       "      <td>none</td>\n",
       "      <td>71</td>\n",
       "      <td>83</td>\n",
       "      <td>78</td>\n",
       "    </tr>\n",
       "    <tr>\n",
       "      <th>6</th>\n",
       "      <td>female</td>\n",
       "      <td>group B</td>\n",
       "      <td>some college</td>\n",
       "      <td>standard</td>\n",
       "      <td>completed</td>\n",
       "      <td>88</td>\n",
       "      <td>95</td>\n",
       "      <td>92</td>\n",
       "    </tr>\n",
       "    <tr>\n",
       "      <th>7</th>\n",
       "      <td>male</td>\n",
       "      <td>group B</td>\n",
       "      <td>some college</td>\n",
       "      <td>free/reduced</td>\n",
       "      <td>none</td>\n",
       "      <td>40</td>\n",
       "      <td>43</td>\n",
       "      <td>39</td>\n",
       "    </tr>\n",
       "    <tr>\n",
       "      <th>8</th>\n",
       "      <td>male</td>\n",
       "      <td>group D</td>\n",
       "      <td>high school</td>\n",
       "      <td>free/reduced</td>\n",
       "      <td>completed</td>\n",
       "      <td>64</td>\n",
       "      <td>64</td>\n",
       "      <td>67</td>\n",
       "    </tr>\n",
       "    <tr>\n",
       "      <th>9</th>\n",
       "      <td>female</td>\n",
       "      <td>group B</td>\n",
       "      <td>high school</td>\n",
       "      <td>free/reduced</td>\n",
       "      <td>none</td>\n",
       "      <td>38</td>\n",
       "      <td>60</td>\n",
       "      <td>50</td>\n",
       "    </tr>\n",
       "  </tbody>\n",
       "</table>\n",
       "</div>"
      ],
      "text/plain": [
       "   gender race/ethnicity parental level of education         lunch  \\\n",
       "0  female        group B           bachelor's degree      standard   \n",
       "1  female        group C                some college      standard   \n",
       "2  female        group B             master's degree      standard   \n",
       "3    male        group A          associate's degree  free/reduced   \n",
       "4    male        group C                some college      standard   \n",
       "5  female        group B          associate's degree      standard   \n",
       "6  female        group B                some college      standard   \n",
       "7    male        group B                some college  free/reduced   \n",
       "8    male        group D                 high school  free/reduced   \n",
       "9  female        group B                 high school  free/reduced   \n",
       "\n",
       "  test preparation course  math score  reading score  writing score  \n",
       "0                    none          72             72             74  \n",
       "1               completed          69             90             88  \n",
       "2                    none          90             95             93  \n",
       "3                    none          47             57             44  \n",
       "4                    none          76             78             75  \n",
       "5                    none          71             83             78  \n",
       "6               completed          88             95             92  \n",
       "7                    none          40             43             39  \n",
       "8               completed          64             64             67  \n",
       "9                    none          38             60             50  "
      ]
     },
     "execution_count": 105,
     "metadata": {},
     "output_type": "execute_result"
    }
   ],
   "source": [
    "import pandas as pd\n",
    "import os\n",
    "\n",
    "os.chdir('C:\\\\Users\\\\Enrico\\\\Desktop\\\\pandas-dev') # precisei fazer isso aqui utilizando 'os' pq o dataframe não estava abrindo.\n",
    "\n",
    "#seu código começa aqui\n",
    "\n",
    "df = pd.read_csv(\"StudentsPerformance.csv\")\n",
    "\n",
    "df.head(10)"
   ]
  },
  {
   "cell_type": "markdown",
   "metadata": {
    "id": "d47OX9nOO3w_"
   },
   "source": [
    "Agora mostre as 10 **últimas** linhas do DataFrame."
   ]
  },
  {
   "cell_type": "code",
   "execution_count": 106,
   "metadata": {
    "id": "XAVm1dWjO3xB"
   },
   "outputs": [
    {
     "data": {
      "text/html": [
       "<div>\n",
       "<style scoped>\n",
       "    .dataframe tbody tr th:only-of-type {\n",
       "        vertical-align: middle;\n",
       "    }\n",
       "\n",
       "    .dataframe tbody tr th {\n",
       "        vertical-align: top;\n",
       "    }\n",
       "\n",
       "    .dataframe thead th {\n",
       "        text-align: right;\n",
       "    }\n",
       "</style>\n",
       "<table border=\"1\" class=\"dataframe\">\n",
       "  <thead>\n",
       "    <tr style=\"text-align: right;\">\n",
       "      <th></th>\n",
       "      <th>gender</th>\n",
       "      <th>race/ethnicity</th>\n",
       "      <th>parental level of education</th>\n",
       "      <th>lunch</th>\n",
       "      <th>test preparation course</th>\n",
       "      <th>math score</th>\n",
       "      <th>reading score</th>\n",
       "      <th>writing score</th>\n",
       "    </tr>\n",
       "  </thead>\n",
       "  <tbody>\n",
       "    <tr>\n",
       "      <th>990</th>\n",
       "      <td>male</td>\n",
       "      <td>group E</td>\n",
       "      <td>high school</td>\n",
       "      <td>free/reduced</td>\n",
       "      <td>completed</td>\n",
       "      <td>86</td>\n",
       "      <td>81</td>\n",
       "      <td>75</td>\n",
       "    </tr>\n",
       "    <tr>\n",
       "      <th>991</th>\n",
       "      <td>female</td>\n",
       "      <td>group B</td>\n",
       "      <td>some high school</td>\n",
       "      <td>standard</td>\n",
       "      <td>completed</td>\n",
       "      <td>65</td>\n",
       "      <td>82</td>\n",
       "      <td>78</td>\n",
       "    </tr>\n",
       "    <tr>\n",
       "      <th>992</th>\n",
       "      <td>female</td>\n",
       "      <td>group D</td>\n",
       "      <td>associate's degree</td>\n",
       "      <td>free/reduced</td>\n",
       "      <td>none</td>\n",
       "      <td>55</td>\n",
       "      <td>76</td>\n",
       "      <td>76</td>\n",
       "    </tr>\n",
       "    <tr>\n",
       "      <th>993</th>\n",
       "      <td>female</td>\n",
       "      <td>group D</td>\n",
       "      <td>bachelor's degree</td>\n",
       "      <td>free/reduced</td>\n",
       "      <td>none</td>\n",
       "      <td>62</td>\n",
       "      <td>72</td>\n",
       "      <td>74</td>\n",
       "    </tr>\n",
       "    <tr>\n",
       "      <th>994</th>\n",
       "      <td>male</td>\n",
       "      <td>group A</td>\n",
       "      <td>high school</td>\n",
       "      <td>standard</td>\n",
       "      <td>none</td>\n",
       "      <td>63</td>\n",
       "      <td>63</td>\n",
       "      <td>62</td>\n",
       "    </tr>\n",
       "    <tr>\n",
       "      <th>995</th>\n",
       "      <td>female</td>\n",
       "      <td>group E</td>\n",
       "      <td>master's degree</td>\n",
       "      <td>standard</td>\n",
       "      <td>completed</td>\n",
       "      <td>88</td>\n",
       "      <td>99</td>\n",
       "      <td>95</td>\n",
       "    </tr>\n",
       "    <tr>\n",
       "      <th>996</th>\n",
       "      <td>male</td>\n",
       "      <td>group C</td>\n",
       "      <td>high school</td>\n",
       "      <td>free/reduced</td>\n",
       "      <td>none</td>\n",
       "      <td>62</td>\n",
       "      <td>55</td>\n",
       "      <td>55</td>\n",
       "    </tr>\n",
       "    <tr>\n",
       "      <th>997</th>\n",
       "      <td>female</td>\n",
       "      <td>group C</td>\n",
       "      <td>high school</td>\n",
       "      <td>free/reduced</td>\n",
       "      <td>completed</td>\n",
       "      <td>59</td>\n",
       "      <td>71</td>\n",
       "      <td>65</td>\n",
       "    </tr>\n",
       "    <tr>\n",
       "      <th>998</th>\n",
       "      <td>female</td>\n",
       "      <td>group D</td>\n",
       "      <td>some college</td>\n",
       "      <td>standard</td>\n",
       "      <td>completed</td>\n",
       "      <td>68</td>\n",
       "      <td>78</td>\n",
       "      <td>77</td>\n",
       "    </tr>\n",
       "    <tr>\n",
       "      <th>999</th>\n",
       "      <td>female</td>\n",
       "      <td>group D</td>\n",
       "      <td>some college</td>\n",
       "      <td>free/reduced</td>\n",
       "      <td>none</td>\n",
       "      <td>77</td>\n",
       "      <td>86</td>\n",
       "      <td>86</td>\n",
       "    </tr>\n",
       "  </tbody>\n",
       "</table>\n",
       "</div>"
      ],
      "text/plain": [
       "     gender race/ethnicity parental level of education         lunch  \\\n",
       "990    male        group E                 high school  free/reduced   \n",
       "991  female        group B            some high school      standard   \n",
       "992  female        group D          associate's degree  free/reduced   \n",
       "993  female        group D           bachelor's degree  free/reduced   \n",
       "994    male        group A                 high school      standard   \n",
       "995  female        group E             master's degree      standard   \n",
       "996    male        group C                 high school  free/reduced   \n",
       "997  female        group C                 high school  free/reduced   \n",
       "998  female        group D                some college      standard   \n",
       "999  female        group D                some college  free/reduced   \n",
       "\n",
       "    test preparation course  math score  reading score  writing score  \n",
       "990               completed          86             81             75  \n",
       "991               completed          65             82             78  \n",
       "992                    none          55             76             76  \n",
       "993                    none          62             72             74  \n",
       "994                    none          63             63             62  \n",
       "995               completed          88             99             95  \n",
       "996                    none          62             55             55  \n",
       "997               completed          59             71             65  \n",
       "998               completed          68             78             77  \n",
       "999                    none          77             86             86  "
      ]
     },
     "execution_count": 106,
     "metadata": {},
     "output_type": "execute_result"
    }
   ],
   "source": [
    "#SEU CÓDIGO COMEÇA AQUI\n",
    "\n",
    "df.tail(10)"
   ]
  },
  {
   "cell_type": "markdown",
   "metadata": {
    "id": "Z4TTA-0rO3xD"
   },
   "source": [
    "## QUESTÃO 1"
   ]
  },
  {
   "cell_type": "markdown",
   "metadata": {
    "id": "ZXSKyjmEO3xE"
   },
   "source": [
    "**Exploração Inicial dos Dados**\n",
    "\n",
    "a) Verifique o número de linhas e colunas no DataFrame. **(.shape)**"
   ]
  },
  {
   "cell_type": "code",
   "execution_count": 107,
   "metadata": {
    "id": "k2wbQZhzO3xF"
   },
   "outputs": [
    {
     "data": {
      "text/plain": [
       "(1000, 8)"
      ]
     },
     "execution_count": 107,
     "metadata": {},
     "output_type": "execute_result"
    }
   ],
   "source": [
    "#SEU CÓDIGO COMEÇA AQUI\n",
    "\n",
    "df.shape # temos mil linhas e 8 colunas"
   ]
  },
  {
   "cell_type": "markdown",
   "metadata": {
    "id": "E5UEPogHO3xF"
   },
   "source": [
    "b) Liste as colunas presentes no DataFrame. **(.columns)**"
   ]
  },
  {
   "cell_type": "code",
   "execution_count": 108,
   "metadata": {
    "id": "Ti2II46aO3xG"
   },
   "outputs": [
    {
     "data": {
      "text/plain": [
       "Index(['gender', 'race/ethnicity', 'parental level of education', 'lunch',\n",
       "       'test preparation course', 'math score', 'reading score',\n",
       "       'writing score'],\n",
       "      dtype='object')"
      ]
     },
     "execution_count": 108,
     "metadata": {},
     "output_type": "execute_result"
    }
   ],
   "source": [
    "#SEU CÓDIGO COMEÇA AQUI\n",
    "\n",
    "df.columns"
   ]
  },
  {
   "cell_type": "markdown",
   "metadata": {
    "id": "PXG0svh9O3xG"
   },
   "source": [
    "c) Verifique se há valores nulos em cada coluna."
   ]
  },
  {
   "cell_type": "code",
   "execution_count": 109,
   "metadata": {
    "id": "Fy7lkEfSO3xG"
   },
   "outputs": [
    {
     "data": {
      "text/plain": [
       "gender                         False\n",
       "race/ethnicity                 False\n",
       "parental level of education    False\n",
       "lunch                          False\n",
       "test preparation course        False\n",
       "math score                     False\n",
       "reading score                  False\n",
       "writing score                  False\n",
       "dtype: bool"
      ]
     },
     "execution_count": 109,
     "metadata": {},
     "output_type": "execute_result"
    }
   ],
   "source": [
    "#SEU CÓDIGO COMEÇA AQUI\n",
    "\n",
    "df.isnull().any() # não há valores nulos em nenhuma coluna."
   ]
  },
  {
   "cell_type": "markdown",
   "metadata": {
    "id": "tfvxMBjHO3xH"
   },
   "source": [
    "## QUESTÃO 2"
   ]
  },
  {
   "cell_type": "markdown",
   "metadata": {
    "id": "cBVNCMQsO3xH"
   },
   "source": [
    "a) Antes de começarmos a trabalhar com os dados é preciso descartar dados que não serão utilizados em nossa análise. Utilize a lista abaixo para remover colunas irrelevantes."
   ]
  },
  {
   "cell_type": "code",
   "execution_count": 110,
   "metadata": {
    "id": "_-apN7a8O3xH"
   },
   "outputs": [
    {
     "data": {
      "text/html": [
       "<div>\n",
       "<style scoped>\n",
       "    .dataframe tbody tr th:only-of-type {\n",
       "        vertical-align: middle;\n",
       "    }\n",
       "\n",
       "    .dataframe tbody tr th {\n",
       "        vertical-align: top;\n",
       "    }\n",
       "\n",
       "    .dataframe thead th {\n",
       "        text-align: right;\n",
       "    }\n",
       "</style>\n",
       "<table border=\"1\" class=\"dataframe\">\n",
       "  <thead>\n",
       "    <tr style=\"text-align: right;\">\n",
       "      <th></th>\n",
       "      <th>gender</th>\n",
       "      <th>race/ethnicity</th>\n",
       "      <th>test preparation course</th>\n",
       "      <th>math score</th>\n",
       "      <th>reading score</th>\n",
       "      <th>writing score</th>\n",
       "    </tr>\n",
       "  </thead>\n",
       "  <tbody>\n",
       "    <tr>\n",
       "      <th>0</th>\n",
       "      <td>female</td>\n",
       "      <td>group B</td>\n",
       "      <td>none</td>\n",
       "      <td>72</td>\n",
       "      <td>72</td>\n",
       "      <td>74</td>\n",
       "    </tr>\n",
       "    <tr>\n",
       "      <th>1</th>\n",
       "      <td>female</td>\n",
       "      <td>group C</td>\n",
       "      <td>completed</td>\n",
       "      <td>69</td>\n",
       "      <td>90</td>\n",
       "      <td>88</td>\n",
       "    </tr>\n",
       "    <tr>\n",
       "      <th>2</th>\n",
       "      <td>female</td>\n",
       "      <td>group B</td>\n",
       "      <td>none</td>\n",
       "      <td>90</td>\n",
       "      <td>95</td>\n",
       "      <td>93</td>\n",
       "    </tr>\n",
       "    <tr>\n",
       "      <th>3</th>\n",
       "      <td>male</td>\n",
       "      <td>group A</td>\n",
       "      <td>none</td>\n",
       "      <td>47</td>\n",
       "      <td>57</td>\n",
       "      <td>44</td>\n",
       "    </tr>\n",
       "    <tr>\n",
       "      <th>4</th>\n",
       "      <td>male</td>\n",
       "      <td>group C</td>\n",
       "      <td>none</td>\n",
       "      <td>76</td>\n",
       "      <td>78</td>\n",
       "      <td>75</td>\n",
       "    </tr>\n",
       "    <tr>\n",
       "      <th>...</th>\n",
       "      <td>...</td>\n",
       "      <td>...</td>\n",
       "      <td>...</td>\n",
       "      <td>...</td>\n",
       "      <td>...</td>\n",
       "      <td>...</td>\n",
       "    </tr>\n",
       "    <tr>\n",
       "      <th>995</th>\n",
       "      <td>female</td>\n",
       "      <td>group E</td>\n",
       "      <td>completed</td>\n",
       "      <td>88</td>\n",
       "      <td>99</td>\n",
       "      <td>95</td>\n",
       "    </tr>\n",
       "    <tr>\n",
       "      <th>996</th>\n",
       "      <td>male</td>\n",
       "      <td>group C</td>\n",
       "      <td>none</td>\n",
       "      <td>62</td>\n",
       "      <td>55</td>\n",
       "      <td>55</td>\n",
       "    </tr>\n",
       "    <tr>\n",
       "      <th>997</th>\n",
       "      <td>female</td>\n",
       "      <td>group C</td>\n",
       "      <td>completed</td>\n",
       "      <td>59</td>\n",
       "      <td>71</td>\n",
       "      <td>65</td>\n",
       "    </tr>\n",
       "    <tr>\n",
       "      <th>998</th>\n",
       "      <td>female</td>\n",
       "      <td>group D</td>\n",
       "      <td>completed</td>\n",
       "      <td>68</td>\n",
       "      <td>78</td>\n",
       "      <td>77</td>\n",
       "    </tr>\n",
       "    <tr>\n",
       "      <th>999</th>\n",
       "      <td>female</td>\n",
       "      <td>group D</td>\n",
       "      <td>none</td>\n",
       "      <td>77</td>\n",
       "      <td>86</td>\n",
       "      <td>86</td>\n",
       "    </tr>\n",
       "  </tbody>\n",
       "</table>\n",
       "<p>1000 rows × 6 columns</p>\n",
       "</div>"
      ],
      "text/plain": [
       "     gender race/ethnicity test preparation course  math score  reading score  \\\n",
       "0    female        group B                    none          72             72   \n",
       "1    female        group C               completed          69             90   \n",
       "2    female        group B                    none          90             95   \n",
       "3      male        group A                    none          47             57   \n",
       "4      male        group C                    none          76             78   \n",
       "..      ...            ...                     ...         ...            ...   \n",
       "995  female        group E               completed          88             99   \n",
       "996    male        group C                    none          62             55   \n",
       "997  female        group C               completed          59             71   \n",
       "998  female        group D               completed          68             78   \n",
       "999  female        group D                    none          77             86   \n",
       "\n",
       "     writing score  \n",
       "0               74  \n",
       "1               88  \n",
       "2               93  \n",
       "3               44  \n",
       "4               75  \n",
       "..             ...  \n",
       "995             95  \n",
       "996             55  \n",
       "997             65  \n",
       "998             77  \n",
       "999             86  \n",
       "\n",
       "[1000 rows x 6 columns]"
      ]
     },
     "execution_count": 110,
     "metadata": {},
     "output_type": "execute_result"
    }
   ],
   "source": [
    "remover = [\"parental level of education\",\"lunch\"]\n",
    "\n",
    "#SEU CÓDIGO COMEÇA AQUI\n",
    "\n",
    "df = df.drop(columns=remover)\n",
    "df # note: agora só há 6 colunas no nosso dataframe."
   ]
  },
  {
   "cell_type": "markdown",
   "metadata": {
    "id": "PBtFIeclO3xI"
   },
   "source": [
    "b) Agora utilize o dicionário abaixo para renomear as colunas restantes."
   ]
  },
  {
   "cell_type": "code",
   "execution_count": 111,
   "metadata": {
    "id": "ivRGc-tmO3xI"
   },
   "outputs": [
    {
     "name": "stdout",
     "output_type": "stream",
     "text": [
      "     Gênero Raça/Etnia Curso_Prep  Nota_Matemática  Nota_Leitura  Nota_Redação\n",
      "0    female    group B       none               72            72            74\n",
      "1    female    group C  completed               69            90            88\n",
      "2    female    group B       none               90            95            93\n",
      "3      male    group A       none               47            57            44\n",
      "4      male    group C       none               76            78            75\n",
      "..      ...        ...        ...              ...           ...           ...\n",
      "995  female    group E  completed               88            99            95\n",
      "996    male    group C       none               62            55            55\n",
      "997  female    group C  completed               59            71            65\n",
      "998  female    group D  completed               68            78            77\n",
      "999  female    group D       none               77            86            86\n",
      "\n",
      "[1000 rows x 6 columns]\n"
     ]
    }
   ],
   "source": [
    "nome_colunas = {\n",
    "    \"gender\": \"Gênero\",\n",
    "    \"race/ethnicity\": \"Raça/Etnia\",\n",
    "    \"test preparation course\": \"Curso_Prep\",\n",
    "    \"math score\" : \"Nota_Matemática\",\n",
    "    \"reading score\":\"Nota_Leitura\",\n",
    "    \"writing score\" : \"Nota_Redação\"\n",
    "}\n",
    "\n",
    "#SEU CÓDIGO COMEÇA AQUI\n",
    "\n",
    "df = df.rename(columns=nome_colunas)\n",
    "print(df) # agora as colunas estão com os nomes determinados. "
   ]
  },
  {
   "cell_type": "markdown",
   "metadata": {
    "id": "tFGlNsoVO3xI"
   },
   "source": [
    "## QUESTÃO 3"
   ]
  },
  {
   "cell_type": "markdown",
   "metadata": {
    "id": "4aR-RXv2O3xJ"
   },
   "source": [
    "Crie um DataFrame com as estatísticas descritivas de cada coluna com valores númericos. Estatísticas descritivas incluem dados como: média, mediana, desvio padrão, mínimo e máximo para cada uma dessas colunas."
   ]
  },
  {
   "cell_type": "code",
   "execution_count": 113,
   "metadata": {
    "id": "dzbYd5p_O3xJ"
   },
   "outputs": [
    {
     "data": {
      "text/html": [
       "<div>\n",
       "<style scoped>\n",
       "    .dataframe tbody tr th:only-of-type {\n",
       "        vertical-align: middle;\n",
       "    }\n",
       "\n",
       "    .dataframe tbody tr th {\n",
       "        vertical-align: top;\n",
       "    }\n",
       "\n",
       "    .dataframe thead th {\n",
       "        text-align: right;\n",
       "    }\n",
       "</style>\n",
       "<table border=\"1\" class=\"dataframe\">\n",
       "  <thead>\n",
       "    <tr style=\"text-align: right;\">\n",
       "      <th></th>\n",
       "      <th>Nota_Matemática</th>\n",
       "      <th>Nota_Leitura</th>\n",
       "      <th>Nota_Redação</th>\n",
       "    </tr>\n",
       "  </thead>\n",
       "  <tbody>\n",
       "    <tr>\n",
       "      <th>count</th>\n",
       "      <td>1000.00000</td>\n",
       "      <td>1000.000000</td>\n",
       "      <td>1000.000000</td>\n",
       "    </tr>\n",
       "    <tr>\n",
       "      <th>mean</th>\n",
       "      <td>66.08900</td>\n",
       "      <td>69.169000</td>\n",
       "      <td>68.054000</td>\n",
       "    </tr>\n",
       "    <tr>\n",
       "      <th>std</th>\n",
       "      <td>15.16308</td>\n",
       "      <td>14.600192</td>\n",
       "      <td>15.195657</td>\n",
       "    </tr>\n",
       "    <tr>\n",
       "      <th>min</th>\n",
       "      <td>0.00000</td>\n",
       "      <td>17.000000</td>\n",
       "      <td>10.000000</td>\n",
       "    </tr>\n",
       "    <tr>\n",
       "      <th>25%</th>\n",
       "      <td>57.00000</td>\n",
       "      <td>59.000000</td>\n",
       "      <td>57.750000</td>\n",
       "    </tr>\n",
       "    <tr>\n",
       "      <th>50%</th>\n",
       "      <td>66.00000</td>\n",
       "      <td>70.000000</td>\n",
       "      <td>69.000000</td>\n",
       "    </tr>\n",
       "    <tr>\n",
       "      <th>75%</th>\n",
       "      <td>77.00000</td>\n",
       "      <td>79.000000</td>\n",
       "      <td>79.000000</td>\n",
       "    </tr>\n",
       "    <tr>\n",
       "      <th>max</th>\n",
       "      <td>100.00000</td>\n",
       "      <td>100.000000</td>\n",
       "      <td>100.000000</td>\n",
       "    </tr>\n",
       "  </tbody>\n",
       "</table>\n",
       "</div>"
      ],
      "text/plain": [
       "       Nota_Matemática  Nota_Leitura  Nota_Redação\n",
       "count       1000.00000   1000.000000   1000.000000\n",
       "mean          66.08900     69.169000     68.054000\n",
       "std           15.16308     14.600192     15.195657\n",
       "min            0.00000     17.000000     10.000000\n",
       "25%           57.00000     59.000000     57.750000\n",
       "50%           66.00000     70.000000     69.000000\n",
       "75%           77.00000     79.000000     79.000000\n",
       "max          100.00000    100.000000    100.000000"
      ]
     },
     "execution_count": 113,
     "metadata": {},
     "output_type": "execute_result"
    }
   ],
   "source": [
    "#SEU CÓDIGO COMEÇA AQUI\n",
    "\n",
    "# para isso, podemos utilizar .describe():\n",
    "\n",
    "df.describe()"
   ]
  },
  {
   "cell_type": "markdown",
   "metadata": {
    "id": "8b29sfLSO3xJ"
   },
   "source": [
    "## QUESTÃO 4"
   ]
  },
  {
   "cell_type": "markdown",
   "metadata": {
    "id": "qFmPjM0hO3xK"
   },
   "source": [
    "Crie um novo DataFrame contendo apenas os alunos que tiveram nota maior que a média em todos os exames chamado \"df_acima_media\". Mostre o DataFrame resultante e quantos dos alunos totais estão na nova tabela."
   ]
  },
  {
   "cell_type": "code",
   "execution_count": 115,
   "metadata": {
    "id": "ljlIuc13O3xK"
   },
   "outputs": [
    {
     "data": {
      "text/html": [
       "<div>\n",
       "<style scoped>\n",
       "    .dataframe tbody tr th:only-of-type {\n",
       "        vertical-align: middle;\n",
       "    }\n",
       "\n",
       "    .dataframe tbody tr th {\n",
       "        vertical-align: top;\n",
       "    }\n",
       "\n",
       "    .dataframe thead th {\n",
       "        text-align: right;\n",
       "    }\n",
       "</style>\n",
       "<table border=\"1\" class=\"dataframe\">\n",
       "  <thead>\n",
       "    <tr style=\"text-align: right;\">\n",
       "      <th></th>\n",
       "      <th>Gênero</th>\n",
       "      <th>Raça/Etnia</th>\n",
       "      <th>Curso_Prep</th>\n",
       "      <th>Nota_Matemática</th>\n",
       "      <th>Nota_Leitura</th>\n",
       "      <th>Nota_Redação</th>\n",
       "    </tr>\n",
       "  </thead>\n",
       "  <tbody>\n",
       "    <tr>\n",
       "      <th>0</th>\n",
       "      <td>female</td>\n",
       "      <td>group B</td>\n",
       "      <td>none</td>\n",
       "      <td>72</td>\n",
       "      <td>72</td>\n",
       "      <td>74</td>\n",
       "    </tr>\n",
       "    <tr>\n",
       "      <th>1</th>\n",
       "      <td>female</td>\n",
       "      <td>group C</td>\n",
       "      <td>completed</td>\n",
       "      <td>69</td>\n",
       "      <td>90</td>\n",
       "      <td>88</td>\n",
       "    </tr>\n",
       "    <tr>\n",
       "      <th>2</th>\n",
       "      <td>female</td>\n",
       "      <td>group B</td>\n",
       "      <td>none</td>\n",
       "      <td>90</td>\n",
       "      <td>95</td>\n",
       "      <td>93</td>\n",
       "    </tr>\n",
       "    <tr>\n",
       "      <th>4</th>\n",
       "      <td>male</td>\n",
       "      <td>group C</td>\n",
       "      <td>none</td>\n",
       "      <td>76</td>\n",
       "      <td>78</td>\n",
       "      <td>75</td>\n",
       "    </tr>\n",
       "    <tr>\n",
       "      <th>5</th>\n",
       "      <td>female</td>\n",
       "      <td>group B</td>\n",
       "      <td>none</td>\n",
       "      <td>71</td>\n",
       "      <td>83</td>\n",
       "      <td>78</td>\n",
       "    </tr>\n",
       "    <tr>\n",
       "      <th>...</th>\n",
       "      <td>...</td>\n",
       "      <td>...</td>\n",
       "      <td>...</td>\n",
       "      <td>...</td>\n",
       "      <td>...</td>\n",
       "      <td>...</td>\n",
       "    </tr>\n",
       "    <tr>\n",
       "      <th>989</th>\n",
       "      <td>female</td>\n",
       "      <td>group D</td>\n",
       "      <td>completed</td>\n",
       "      <td>67</td>\n",
       "      <td>86</td>\n",
       "      <td>83</td>\n",
       "    </tr>\n",
       "    <tr>\n",
       "      <th>990</th>\n",
       "      <td>male</td>\n",
       "      <td>group E</td>\n",
       "      <td>completed</td>\n",
       "      <td>86</td>\n",
       "      <td>81</td>\n",
       "      <td>75</td>\n",
       "    </tr>\n",
       "    <tr>\n",
       "      <th>995</th>\n",
       "      <td>female</td>\n",
       "      <td>group E</td>\n",
       "      <td>completed</td>\n",
       "      <td>88</td>\n",
       "      <td>99</td>\n",
       "      <td>95</td>\n",
       "    </tr>\n",
       "    <tr>\n",
       "      <th>998</th>\n",
       "      <td>female</td>\n",
       "      <td>group D</td>\n",
       "      <td>completed</td>\n",
       "      <td>68</td>\n",
       "      <td>78</td>\n",
       "      <td>77</td>\n",
       "    </tr>\n",
       "    <tr>\n",
       "      <th>999</th>\n",
       "      <td>female</td>\n",
       "      <td>group D</td>\n",
       "      <td>none</td>\n",
       "      <td>77</td>\n",
       "      <td>86</td>\n",
       "      <td>86</td>\n",
       "    </tr>\n",
       "  </tbody>\n",
       "</table>\n",
       "<p>374 rows × 6 columns</p>\n",
       "</div>"
      ],
      "text/plain": [
       "     Gênero Raça/Etnia Curso_Prep  Nota_Matemática  Nota_Leitura  Nota_Redação\n",
       "0    female    group B       none               72            72            74\n",
       "1    female    group C  completed               69            90            88\n",
       "2    female    group B       none               90            95            93\n",
       "4      male    group C       none               76            78            75\n",
       "5    female    group B       none               71            83            78\n",
       "..      ...        ...        ...              ...           ...           ...\n",
       "989  female    group D  completed               67            86            83\n",
       "990    male    group E  completed               86            81            75\n",
       "995  female    group E  completed               88            99            95\n",
       "998  female    group D  completed               68            78            77\n",
       "999  female    group D       none               77            86            86\n",
       "\n",
       "[374 rows x 6 columns]"
      ]
     },
     "execution_count": 115,
     "metadata": {},
     "output_type": "execute_result"
    }
   ],
   "source": [
    "#SEU CÓDIGO COMEÇA AQUI\n",
    "\n",
    "# aqui estamos utilizando uma condição booleana para considerar apenas os alunos cujas notas sejam maiores que as respectivas médias da disciplina, \n",
    "# utilizando .mean(), simultaneamente. \n",
    "\n",
    "df_acima_media = df[(df['Nota_Matemática'] > df['Nota_Matemática'].mean()) & \n",
    "                    (df['Nota_Leitura'] > df['Nota_Leitura'].mean()) & \n",
    "                    (df['Nota_Redação'] > df['Nota_Redação'].mean())]\n",
    "\n",
    "df_acima_media"
   ]
  },
  {
   "cell_type": "markdown",
   "metadata": {
    "id": "6t_twHopO3xK"
   },
   "source": [
    "## QUESTÃO 5"
   ]
  },
  {
   "cell_type": "markdown",
   "metadata": {
    "id": "lYz7sgdaO3xK"
   },
   "source": [
    "Crie uma nova coluna no Dataframe \"df\" com o nome \"Nota_Geral\" que represente a média da nota de cada aluno nas 3 disciplinas. Utilize esta nova coluna para ordenar os alunos de acordo com sua nota de forma que o aluno com maior nota geral esteja na primeira linha do DataFrame."
   ]
  },
  {
   "cell_type": "code",
   "execution_count": 116,
   "metadata": {
    "id": "3izFgCqKO3xL"
   },
   "outputs": [
    {
     "data": {
      "text/html": [
       "<div>\n",
       "<style scoped>\n",
       "    .dataframe tbody tr th:only-of-type {\n",
       "        vertical-align: middle;\n",
       "    }\n",
       "\n",
       "    .dataframe tbody tr th {\n",
       "        vertical-align: top;\n",
       "    }\n",
       "\n",
       "    .dataframe thead th {\n",
       "        text-align: right;\n",
       "    }\n",
       "</style>\n",
       "<table border=\"1\" class=\"dataframe\">\n",
       "  <thead>\n",
       "    <tr style=\"text-align: right;\">\n",
       "      <th></th>\n",
       "      <th>Gênero</th>\n",
       "      <th>Raça/Etnia</th>\n",
       "      <th>Curso_Prep</th>\n",
       "      <th>Nota_Matemática</th>\n",
       "      <th>Nota_Leitura</th>\n",
       "      <th>Nota_Redação</th>\n",
       "      <th>Nota_Geral</th>\n",
       "    </tr>\n",
       "  </thead>\n",
       "  <tbody>\n",
       "    <tr>\n",
       "      <th>916</th>\n",
       "      <td>male</td>\n",
       "      <td>group E</td>\n",
       "      <td>completed</td>\n",
       "      <td>100</td>\n",
       "      <td>100</td>\n",
       "      <td>100</td>\n",
       "      <td>100.000000</td>\n",
       "    </tr>\n",
       "    <tr>\n",
       "      <th>458</th>\n",
       "      <td>female</td>\n",
       "      <td>group E</td>\n",
       "      <td>none</td>\n",
       "      <td>100</td>\n",
       "      <td>100</td>\n",
       "      <td>100</td>\n",
       "      <td>100.000000</td>\n",
       "    </tr>\n",
       "    <tr>\n",
       "      <th>962</th>\n",
       "      <td>female</td>\n",
       "      <td>group E</td>\n",
       "      <td>none</td>\n",
       "      <td>100</td>\n",
       "      <td>100</td>\n",
       "      <td>100</td>\n",
       "      <td>100.000000</td>\n",
       "    </tr>\n",
       "    <tr>\n",
       "      <th>114</th>\n",
       "      <td>female</td>\n",
       "      <td>group E</td>\n",
       "      <td>completed</td>\n",
       "      <td>99</td>\n",
       "      <td>100</td>\n",
       "      <td>100</td>\n",
       "      <td>99.666667</td>\n",
       "    </tr>\n",
       "    <tr>\n",
       "      <th>179</th>\n",
       "      <td>female</td>\n",
       "      <td>group D</td>\n",
       "      <td>completed</td>\n",
       "      <td>97</td>\n",
       "      <td>100</td>\n",
       "      <td>100</td>\n",
       "      <td>99.000000</td>\n",
       "    </tr>\n",
       "    <tr>\n",
       "      <th>...</th>\n",
       "      <td>...</td>\n",
       "      <td>...</td>\n",
       "      <td>...</td>\n",
       "      <td>...</td>\n",
       "      <td>...</td>\n",
       "      <td>...</td>\n",
       "      <td>...</td>\n",
       "    </tr>\n",
       "    <tr>\n",
       "      <th>76</th>\n",
       "      <td>male</td>\n",
       "      <td>group E</td>\n",
       "      <td>none</td>\n",
       "      <td>30</td>\n",
       "      <td>26</td>\n",
       "      <td>22</td>\n",
       "      <td>26.000000</td>\n",
       "    </tr>\n",
       "    <tr>\n",
       "      <th>327</th>\n",
       "      <td>male</td>\n",
       "      <td>group A</td>\n",
       "      <td>none</td>\n",
       "      <td>28</td>\n",
       "      <td>23</td>\n",
       "      <td>19</td>\n",
       "      <td>23.333333</td>\n",
       "    </tr>\n",
       "    <tr>\n",
       "      <th>596</th>\n",
       "      <td>male</td>\n",
       "      <td>group B</td>\n",
       "      <td>none</td>\n",
       "      <td>30</td>\n",
       "      <td>24</td>\n",
       "      <td>15</td>\n",
       "      <td>23.000000</td>\n",
       "    </tr>\n",
       "    <tr>\n",
       "      <th>980</th>\n",
       "      <td>female</td>\n",
       "      <td>group B</td>\n",
       "      <td>none</td>\n",
       "      <td>8</td>\n",
       "      <td>24</td>\n",
       "      <td>23</td>\n",
       "      <td>18.333333</td>\n",
       "    </tr>\n",
       "    <tr>\n",
       "      <th>59</th>\n",
       "      <td>female</td>\n",
       "      <td>group C</td>\n",
       "      <td>none</td>\n",
       "      <td>0</td>\n",
       "      <td>17</td>\n",
       "      <td>10</td>\n",
       "      <td>9.000000</td>\n",
       "    </tr>\n",
       "  </tbody>\n",
       "</table>\n",
       "<p>1000 rows × 7 columns</p>\n",
       "</div>"
      ],
      "text/plain": [
       "     Gênero Raça/Etnia Curso_Prep  Nota_Matemática  Nota_Leitura  \\\n",
       "916    male    group E  completed              100           100   \n",
       "458  female    group E       none              100           100   \n",
       "962  female    group E       none              100           100   \n",
       "114  female    group E  completed               99           100   \n",
       "179  female    group D  completed               97           100   \n",
       "..      ...        ...        ...              ...           ...   \n",
       "76     male    group E       none               30            26   \n",
       "327    male    group A       none               28            23   \n",
       "596    male    group B       none               30            24   \n",
       "980  female    group B       none                8            24   \n",
       "59   female    group C       none                0            17   \n",
       "\n",
       "     Nota_Redação  Nota_Geral  \n",
       "916           100  100.000000  \n",
       "458           100  100.000000  \n",
       "962           100  100.000000  \n",
       "114           100   99.666667  \n",
       "179           100   99.000000  \n",
       "..            ...         ...  \n",
       "76             22   26.000000  \n",
       "327            19   23.333333  \n",
       "596            15   23.000000  \n",
       "980            23   18.333333  \n",
       "59             10    9.000000  \n",
       "\n",
       "[1000 rows x 7 columns]"
      ]
     },
     "execution_count": 116,
     "metadata": {},
     "output_type": "execute_result"
    }
   ],
   "source": [
    "#SEU CÓDIGO COMEÇA AQUI\n",
    "\n",
    "# definimos uma nova coluna, 'Nota_Geral' como a média das outras 3 notas. o parâmetro (axis = 1) está ali \n",
    "# para indicar que deve ser calculada a média para cada linha do df (cada pessoa individualmente).\n",
    "\n",
    "df['Nota_Geral'] = df[['Nota_Matemática', 'Nota_Leitura', 'Nota_Redação']].mean(axis=1)\n",
    "\n",
    "# a função .sort_values() ordena as linhas do dataframe, e ascending = False indica que é em ordem decrescente. \n",
    "\n",
    "df = df.sort_values(by='Nota_Geral', ascending=False)\n",
    "\n",
    "df"
   ]
  },
  {
   "cell_type": "markdown",
   "metadata": {
    "id": "r1QYhqMiO3xL"
   },
   "source": [
    "## QUESTÃO 6"
   ]
  },
  {
   "cell_type": "markdown",
   "metadata": {
    "id": "FbJHXYzzO3xL"
   },
   "source": [
    "a) Conte quantos dos alunos pertencem a cada gênero."
   ]
  },
  {
   "cell_type": "code",
   "execution_count": 117,
   "metadata": {
    "id": "1fx8ZfRLO3xL"
   },
   "outputs": [
    {
     "data": {
      "text/plain": [
       "Gênero\n",
       "female    518\n",
       "male      482\n",
       "Name: count, dtype: int64"
      ]
     },
     "execution_count": 117,
     "metadata": {},
     "output_type": "execute_result"
    }
   ],
   "source": [
    "#SEU CÓDIGO COMEÇA AQUI\n",
    "\n",
    "# para todos os itens da questão 6 podemos utilizar a função .value_counts(), que conta quantas vezes cada valor aparece em uma coluna de um dataframe.\n",
    "\n",
    "genero = df['Gênero'].value_counts()\n",
    "\n",
    "genero"
   ]
  },
  {
   "cell_type": "markdown",
   "metadata": {
    "id": "ieUg9dC3O3xM"
   },
   "source": [
    "b) Conte quantos dos alunos pertencem a cada Raça/Etnia."
   ]
  },
  {
   "cell_type": "code",
   "execution_count": 118,
   "metadata": {
    "id": "eL6_91ugO3xM"
   },
   "outputs": [
    {
     "data": {
      "text/plain": [
       "Raça/Etnia\n",
       "group C    319\n",
       "group D    262\n",
       "group B    190\n",
       "group E    140\n",
       "group A     89\n",
       "Name: count, dtype: int64"
      ]
     },
     "execution_count": 118,
     "metadata": {},
     "output_type": "execute_result"
    }
   ],
   "source": [
    "#SEU CÓDIGO COMEÇA AQUI\n",
    "\n",
    "etnia = df['Raça/Etnia'].value_counts()\n",
    "\n",
    "etnia"
   ]
  },
  {
   "cell_type": "markdown",
   "metadata": {
    "id": "kt8Eep6bO3xM"
   },
   "source": [
    "c) Conte quantos dos alunos realizaram ou não algum curso preparatório."
   ]
  },
  {
   "cell_type": "code",
   "execution_count": 119,
   "metadata": {
    "id": "_SY1Uj4cO3xN"
   },
   "outputs": [
    {
     "data": {
      "text/plain": [
       "Raça/Etnia\n",
       "group C    319\n",
       "group D    262\n",
       "group B    190\n",
       "group E    140\n",
       "group A     89\n",
       "Name: count, dtype: int64"
      ]
     },
     "execution_count": 119,
     "metadata": {},
     "output_type": "execute_result"
    }
   ],
   "source": [
    "#SEU CÓDIGO COMEÇA AQUI\n",
    "\n",
    "curso = df['Curso_Prep'].value_counts()\n",
    "\n",
    "etnia"
   ]
  },
  {
   "cell_type": "markdown",
   "metadata": {
    "id": "T1FH6LexO3xN"
   },
   "source": [
    "## QUESTÃO 7"
   ]
  },
  {
   "cell_type": "markdown",
   "metadata": {
    "id": "lT1mHJoxO3xN"
   },
   "source": [
    "Neste exercício deseja-se observar se o gênero de um aluno tem influência sobre seu acesso a cursos preparatórios. Para realizar esta tarefa agrupe os alunos de acordo com seus respectivos genêros (.groupby) e obtenha as proporções daqueles que realizaram algum curso e aqueles que não para cada um dos grupos (para obter a contagem da frequência relativa de um valor utilize **normalize=True**)."
   ]
  },
  {
   "cell_type": "code",
   "execution_count": 120,
   "metadata": {
    "id": "xOMScOHuO3xO",
    "outputId": "8e2c1cca-2d1f-4dbf-c0ed-76321edddd6d"
   },
   "outputs": [
    {
     "data": {
      "text/plain": [
       "Gênero  Curso_Prep\n",
       "female  none          0.644788\n",
       "        completed     0.355212\n",
       "male    none          0.639004\n",
       "        completed     0.360996\n",
       "Name: proportion, dtype: float64"
      ]
     },
     "execution_count": 120,
     "metadata": {},
     "output_type": "execute_result"
    }
   ],
   "source": [
    "#SEU CÓDIGO COMEÇA AQUI\n",
    "\n",
    "grupos_genero = df.groupby('Gênero')['Curso_Prep'].value_counts(normalize=True)\n",
    "\n",
    "grupos_genero\n",
    "\n",
    "# nota-se que a proporção de pessoas que fazem curso preparatório é relativamente constante entre homens e mulheres."
   ]
  },
  {
   "cell_type": "markdown",
   "metadata": {
    "id": "0zk9Qa5aO3xc"
   },
   "source": [
    "## QUESTÃO 8"
   ]
  },
  {
   "cell_type": "markdown",
   "metadata": {
    "id": "y92T69wBO3xc"
   },
   "source": [
    "Neste exercício deseja-se observar qual das disciplinas examindas (Matemática, Leitura, Redação) é mais influênciada por cada um dos fatores qualitivos (Gênero, Raça/Etnia, Realização de Curso Preparatório). Para isso, agrupe a base de dados para cada um dos fatores qualitativos e calcule a diferença entre a maior e menor nota média em cada uma das disciplinas. A disciplina que possuir maior diferença entre as notas médias será considerada a mais influênciada."
   ]
  },
  {
   "cell_type": "markdown",
   "metadata": {
    "id": "PTkCdjGPO3xd"
   },
   "source": [
    "a) Qual disciplina possui a maior diferença entre as notas médias de homens e mulheres."
   ]
  },
  {
   "cell_type": "code",
   "execution_count": 121,
   "metadata": {
    "id": "QlGMDPDbO3xd"
   },
   "outputs": [
    {
     "data": {
      "text/plain": [
       "'Nota_Redação'"
      ]
     },
     "execution_count": 121,
     "metadata": {},
     "output_type": "execute_result"
    }
   ],
   "source": [
    "#SEU CÓDIGO COMEÇA AQUI\n",
    "\n",
    "# primeiro utilizamos .groupby() para selecionar a variável controle de interesse, e pegamos a média de matemática, redação e leitura.\n",
    "# esse procedimento se repetirá nos próximos exercícios até o exercício 9.\n",
    "medias_por_genero = df.groupby('Gênero')[['Nota_Matemática', 'Nota_Leitura', 'Nota_Redação']].mean()\n",
    "\n",
    "# agora definimos as diferenças como o valor máximo menos o valor mínimo entre os dois gêneros.\n",
    "diferencas = medias_por_genero.max() - medias_por_genero.min()\n",
    "\n",
    "# puxamos a disciplina mais influenciada utilizando .idxmax(), que diferentemente de .max(), pega o ÍNDICE referente ao maior valor, que é o que nos interessa.\n",
    "disciplina_mais_influenciada = diferencas.idxmax()\n",
    "disciplina_mais_influenciada"
   ]
  },
  {
   "cell_type": "markdown",
   "metadata": {
    "id": "rRtUYZ0vO3xd"
   },
   "source": [
    "b) Qual disciplina possui a maior diferença entre a maior e menor nota média dentre as diferentes Raças/Etnias."
   ]
  },
  {
   "cell_type": "code",
   "execution_count": 122,
   "metadata": {
    "id": "KstRxwuZO3xe"
   },
   "outputs": [
    {
     "data": {
      "text/plain": [
       "'Nota_Matemática'"
      ]
     },
     "execution_count": 122,
     "metadata": {},
     "output_type": "execute_result"
    }
   ],
   "source": [
    "#SEU CÓDIGO COMEÇA AQUI\n",
    "\n",
    "# mesmo procedimento, mudando apenas o subgrupo de controle. \n",
    "\n",
    "medias_por_raca = df.groupby('Raça/Etnia')[['Nota_Matemática', 'Nota_Leitura', 'Nota_Redação']].mean()\n",
    "\n",
    "diferencas = medias_por_raca.max() - medias_por_raca.min()\n",
    "\n",
    "disciplina_mais_influenciada = diferencas.idxmax()\n",
    "disciplina_mais_influenciada\n",
    "\n",
    "disciplina_mais_influenciada"
   ]
  },
  {
   "cell_type": "markdown",
   "metadata": {
    "id": "0XuaM_VlO3xe"
   },
   "source": [
    "c) Qual disciplina possuir a maior diferença entre as notas médias daqueles que realizaram ou não cursos preparatórios."
   ]
  },
  {
   "cell_type": "code",
   "execution_count": 123,
   "metadata": {
    "id": "s37NslzCO3xe"
   },
   "outputs": [
    {
     "data": {
      "text/plain": [
       "'Nota_Redação'"
      ]
     },
     "execution_count": 123,
     "metadata": {},
     "output_type": "execute_result"
    }
   ],
   "source": [
    "#SEU CÓDIGO COMEÇA AQUI\n",
    "\n",
    "# mesmo procedimento, mudando apenas o subgrupo de controle. \n",
    "\n",
    "medias_curso = df.groupby('Curso_Prep')[['Nota_Matemática', 'Nota_Leitura', 'Nota_Redação']].mean()\n",
    "\n",
    "diferencas = medias_curso.max() - medias_curso.min()\n",
    "\n",
    "disciplina_mais_influenciada = diferencas.idxmax()\n",
    "disciplina_mais_influenciada\n",
    "\n",
    "disciplina_mais_influenciada"
   ]
  },
  {
   "cell_type": "markdown",
   "metadata": {
    "id": "h1a69q90O3xf"
   },
   "source": [
    "## QUESTÃO 9"
   ]
  },
  {
   "cell_type": "markdown",
   "metadata": {
    "id": "nRsmpwXyO3xf"
   },
   "source": [
    "Neste exercício deseja-se observar qual dos fatores qualitativos (Gênero, Raça/Etnia, Realização de Curso Preparatório) possui maior discrepância de desempenho entre suas categorias para a nota geral do exame. Para isso, calcule a diferença entre a maior e menor nota média para cada um dos fatores e indique qual teve maior diferença. Utilize as funções (.groupby) e (.mean)."
   ]
  },
  {
   "cell_type": "markdown",
   "metadata": {
    "id": "Y6LDWNCfO3xf"
   },
   "source": [
    "Qual das colunas possui maior discrepância para as Notas Gerais?"
   ]
  },
  {
   "cell_type": "code",
   "execution_count": 124,
   "metadata": {
    "id": "FtIAIZirO3xf",
    "scrolled": true
   },
   "outputs": [
    {
     "data": {
      "text/plain": [
       "('female', 'group A', 'completed')"
      ]
     },
     "execution_count": 124,
     "metadata": {},
     "output_type": "execute_result"
    }
   ],
   "source": [
    "#SEU CÓDIGO COMEÇA AQUI\n",
    "\n",
    "# agora estamos fazendo diversos subgrupos, entre as 3 variáveis de controle, e pegando a média da Nota_Geral para cada um deles:\n",
    "medias_por_grupo = df.groupby(['Gênero', 'Raça/Etnia', 'Curso_Prep'])['Nota_Geral'].mean()\n",
    "\n",
    "# a principal diferença é que agora usamos level = [0,1,2] para considerar cada índice simultâneamente na subtração entre máximo e mínimo.\n",
    "diferencas_por_fator = medias_por_grupo.groupby(level=[0, 1,2]).max() - medias_por_grupo.groupby(level=[0, 1, 2]).min()\n",
    "\n",
    "# o resto é o mesmo.\n",
    "fator_maior_diferenca = diferencas_por_fator.idxmax()\n",
    "fator_maior_diferenca"
   ]
  }
 ],
 "metadata": {
  "colab": {
   "provenance": []
  },
  "kernelspec": {
   "display_name": "Python 3 (ipykernel)",
   "language": "python",
   "name": "python3"
  },
  "language_info": {
   "codemirror_mode": {
    "name": "ipython",
    "version": 3
   },
   "file_extension": ".py",
   "mimetype": "text/x-python",
   "name": "python",
   "nbconvert_exporter": "python",
   "pygments_lexer": "ipython3",
   "version": "3.12.2"
  }
 },
 "nbformat": 4,
 "nbformat_minor": 4
}
