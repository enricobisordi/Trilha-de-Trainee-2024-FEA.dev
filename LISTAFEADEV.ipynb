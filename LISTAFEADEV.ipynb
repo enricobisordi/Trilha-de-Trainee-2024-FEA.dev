{
 "cells": [
  {
   "cell_type": "markdown",
   "metadata": {
    "id": "k6piiZ89W4la"
   },
   "source": [
    "![WhatsApp%20Image%202023-09-10%20at%2011.20.28.jpeg](attachment:WhatsApp%20Image%202023-09-10%20at%2011.20.28.jpeg)\n"
   ]
  },
  {
   "cell_type": "markdown",
   "metadata": {
    "id": "u0ysBRU9W4lc"
   },
   "source": [
    "### Fala devs, blz??\n",
    "\n",
    "Esta será nossa primeira lista de exercícios para você testar seu conhecimento acerca do conteúdo do MÓDULO 2:\n",
    "\n",
    "-Meu Primeiro Programa em Python\n",
    "\n",
    "\n",
    "-Estrutura de Dados"
   ]
  },
  {
   "cell_type": "markdown",
   "metadata": {
    "id": "GfwmTWeFW4ld"
   },
   "source": [
    "## INSTRUÇÕES:\n",
    "\n",
    "A lista deve ser realizada pelo Jupyter Notebook.\n",
    "\n",
    "Nâo é necessário entregar a lista para afins de certificado dentro da plataforma, entretanto para alunos da USP que queiram participar do processo seletivo ou conseguir créditos AAC (apenas FEANOS) é necessária a entrega de TODAS as listas.\n",
    "\n",
    "A entrega das listas ou pelo menos sua excecução é recomendada a fim de exercitar todo o conhecimento adquirido do curso.\n",
    "\n",
    "O DESAFIO é para realmente te desafiar, por isso não desista de tentar e de continuar com o curso, ao longo das listas você verá que cada vez mais você terá ferramentas para completá-lo.\n",
    "\n",
    "Caso haja alguma dúvida acerca da lista participe das monitorias que serão oferecidas as quintas e sábados das 17h as 18h pelo DISCORD. Caso seu problema não seje resolvido envie uma mensagem para contato.feadev@gmail.com\n",
    "\n",
    "O gabarito será disponibilizado na plataforma após o término de periodo de envio\n",
    "\n"
   ]
  },
  {
   "cell_type": "code",
   "execution_count": 3,
   "metadata": {
    "colab": {
     "base_uri": "https://localhost:8080/"
    },
    "executionInfo": {
     "elapsed": 3,
     "status": "ok",
     "timestamp": 1716080377263,
     "user": {
      "displayName": "Enrico Exel Bisordi",
      "userId": "18170178870266591868"
     },
     "user_tz": 180
    },
    "id": "F1UIENN0W4ld",
    "outputId": "4a1aa22f-ce17-468c-93d4-8a5271547310"
   },
   "outputs": [
    {
     "name": "stdout",
     "output_type": "stream",
     "text": [
      "Claro!\n"
     ]
    }
   ],
   "source": [
    "## vamos começar??\n",
    "\n",
    "print('Claro!')"
   ]
  },
  {
   "cell_type": "markdown",
   "metadata": {
    "id": "5zqPkeA5W4le"
   },
   "source": [
    "## QUESTÃO 0"
   ]
  },
  {
   "cell_type": "markdown",
   "metadata": {
    "id": "YncTP_9zW4le"
   },
   "source": [
    "Todo programador deve saber apenas uma coisa: Pedir para o Python escrever \"Hello, Word\"\n",
    "Vamos testar se você já pode ser nomeado como um programador???"
   ]
  },
  {
   "cell_type": "code",
   "execution_count": 2,
   "metadata": {
    "colab": {
     "base_uri": "https://localhost:8080/"
    },
    "executionInfo": {
     "elapsed": 4,
     "status": "ok",
     "timestamp": 1716080393535,
     "user": {
      "displayName": "Enrico Exel Bisordi",
      "userId": "18170178870266591868"
     },
     "user_tz": 180
    },
    "id": "SfwaTWuJW4lf",
    "outputId": "e9e415b6-5964-42c7-997b-403663ebc10d"
   },
   "outputs": [
    {
     "name": "stdout",
     "output_type": "stream",
     "text": [
      "Hello, World!\n"
     ]
    }
   ],
   "source": [
    "#seu código começa aqui\n",
    "\n",
    "print('Hello, World!')"
   ]
  },
  {
   "cell_type": "markdown",
   "metadata": {
    "id": "b4z8-upWW4lf"
   },
   "source": [
    "E se eu te pedir para criar um código que tenha como OUTPUT  (termo comumente usado na programação e na computação em geral para se referir à saída de um programa ou processo) o seu número favorito? Como seria?"
   ]
  },
  {
   "cell_type": "code",
   "execution_count": 1,
   "metadata": {
    "id": "fi_fjvxmW4lf"
   },
   "outputs": [
    {
     "name": "stdout",
     "output_type": "stream",
     "text": [
      "O meu número favorito é: 77\n"
     ]
    }
   ],
   "source": [
    "#seu código começa aqui\n",
    "\n",
    "print('O meu número favorito é: 77')"
   ]
  },
  {
   "cell_type": "markdown",
   "metadata": {
    "id": "7I4i3fK-W4lf"
   },
   "source": [
    "## QUESTÃO 1\n"
   ]
  },
  {
   "cell_type": "markdown",
   "metadata": {
    "id": "MTf_-NfFW4lg"
   },
   "source": [
    "\n",
    "Você foi contratado por um restaurante na cidade de São Paulo. Seu trabalho é criar um sistema de reservas online que proporcionará uma experiência mais eficiente e rápida ao\n",
    "cliente. No sistema, os clientes serão solicitados a inserir o seu nome e o sobrenome ao fazer uma reserva.\n",
    "\n",
    "Agora, sua tarefa é criar um código em Python no Jupyter Notebook para combinar o seu primeiro nome e seu sobrenome e exibir o nome completo que o atendente usará para chamar você quando a mesa estiver pronta.\n",
    "\n",
    "Seu código deve fazer o seguinte:\n",
    "\n",
    "Declare duas variáveis: primeiro_nome e sobrenome.\n",
    "Atribua um valor ao primeiro_nome representando o primeiro nome que a atendente anotou.\n",
    "Atribua um valor ao sobrenome representando o sobrenome que o atendente solicitou posteriormente.\n",
    "Use sua habilidade em Python para combinar essas duas partes e criar o nome completo.\n",
    "Exiba o nome completo no Jupyter Notebook.\n",
    "\n",
    "Desafio aceito? Agora, você está pronto para criar o código que garantirá que o recepcionista chame você corretamente quando a mesa estiver pronta!"
   ]
  },
  {
   "cell_type": "markdown",
   "metadata": {
    "id": "kACMJFmLW4lg"
   },
   "source": [
    "![Captura%20de%20tela%202023-09-24%20140330.png](attachment:Captura%20de%20tela%202023-09-24%20140330.png)"
   ]
  },
  {
   "cell_type": "code",
   "execution_count": 4,
   "metadata": {
    "id": "UkhgQ6htW4lg"
   },
   "outputs": [
    {
     "name": "stdin",
     "output_type": "stream",
     "text": [
      "Qual é o seu primeiro nome? Enrico\n",
      "Qual o seu sobrenome? Bisordi\n"
     ]
    },
    {
     "name": "stdout",
     "output_type": "stream",
     "text": [
      "Enrico Bisordi\n"
     ]
    }
   ],
   "source": [
    "#seu código começa aqui\n",
    "\n",
    "# utilizaremos a função input, para tornar o código generalizável para qualquer nome:\n",
    "\n",
    "primeiro_nome = input('Qual é o seu primeiro nome?')\n",
    "sobrenome = input('Qual o seu sobrenome?')\n",
    "\n",
    "# e agora, printaremos ambas variáveis: \n",
    "\n",
    "print(primeiro_nome, sobrenome)"
   ]
  },
  {
   "cell_type": "markdown",
   "metadata": {
    "id": "z6AUuLVgW4lg"
   },
   "source": [
    "## QUESTÃO 2\n",
    "\n"
   ]
  },
  {
   "cell_type": "markdown",
   "metadata": {
    "id": "RPsdDt3VW4lg"
   },
   "source": [
    "Imagine que você é um aluno do Ensino Fundamental e acabou de fazer uma prova de matemática. Em uma questão, o professor pediu o resultado de 10 + 5 x 2. A expressão criou uma forte discussão entre os estudantes da classe, uma parte defendia que a resposta correta era 20; a outra, 30.\n",
    "\n",
    "Então, você recorreu ao Python para descobrir a resposta correta.\n",
    "\n",
    "Como deve ser o código para chegar ao resultado?"
   ]
  },
  {
   "cell_type": "markdown",
   "metadata": {
    "id": "YN6leLSOW4lg"
   },
   "source": [
    "![Captura%20de%20tela%202023-09-24%20140141.png](attachment:Captura%20de%20tela%202023-09-24%20140141.png)"
   ]
  },
  {
   "cell_type": "code",
   "execution_count": 11,
   "metadata": {
    "id": "YJHYjexuW4lg"
   },
   "outputs": [
    {
     "name": "stdout",
     "output_type": "stream",
     "text": [
      "O resultado certo é: 20\n"
     ]
    }
   ],
   "source": [
    "# seu código começa aqui\n",
    "\n",
    "# Defina os números\n",
    "\n",
    "a = 10 # primeiro, atribuímos cada valor a uma variável. depois fazemos a conta.\n",
    "b = 5\n",
    "c = 2\n",
    "\n",
    "\n",
    "# Calcule o resultado\n",
    "\n",
    "print('O resultado certo é:', a + b*c)\n",
    "\n",
    "# Exiba o resultado"
   ]
  },
  {
   "cell_type": "code",
   "execution_count": 12,
   "metadata": {
    "id": "nBUqEBQJW4lg"
   },
   "outputs": [
    {
     "data": {
      "text/plain": [
       "20"
      ]
     },
     "execution_count": 12,
     "metadata": {},
     "output_type": "execute_result"
    }
   ],
   "source": [
    "# seu código começa aqui\n",
    "\n",
    "# Calcule o resultado diretamente\n",
    "\n",
    "10 + 5*2\n",
    "\n",
    "# Exiba o resultado"
   ]
  },
  {
   "cell_type": "markdown",
   "metadata": {
    "id": "M_xQPqixW4lh"
   },
   "source": [
    "## QUESTÃO 3"
   ]
  },
  {
   "cell_type": "markdown",
   "metadata": {
    "id": "S5uyMKqXW4lh"
   },
   "source": [
    "Você e o seu melhor amigo são interessados por desafios de criptografia. Certo dia, vocês recebem uma carta com uma mensagem secreta. Para decifrá-la, é necessário utilizar as técnicas de operações de texto em Python.\n",
    "\n",
    "Mistério da Mensagem Secreta:\n",
    "\n",
    "A mensagem é dada por:"
   ]
  },
  {
   "cell_type": "code",
   "execution_count": null,
   "metadata": {
    "id": "Ljjs9orGW4lh"
   },
   "outputs": [],
   "source": [
    "\n",
    "#Mistério: @lg0 3$c0nd3 3$t@ m3n$@g3m. P0d3r1@$ d3c1fr@-l@??\n"
   ]
  },
  {
   "cell_type": "markdown",
   "metadata": {
    "id": "RZxhHcT6W4lh"
   },
   "source": [
    "A mensagem parece confusa, mas você sabe que ela contém informações importantes. Aqui estão as etapas que você deve seguir para decifrar a mensagem:\n",
    "\n",
    "Crie uma variável chamada mensagem e atribua a ela a mensagem secreta fornecida acima.\n",
    "Use operações de texto em Python para limpar a mensagem, removendo todos os caracteres especiais, números e espaços em branco.\n",
    "\n",
    "Converta a mensagem resultante para letras minúsculas.\n",
    "\n",
    "Agora que a mensagem está limpa, vocês podem decifrá-la? A mensagem secreta pode conter uma pista importante!\n",
    "\n",
    "Crie um código em Python no Jupyter Notebook para realizar essas etapas e revelar o que está por trás desse mistério! 🕵️‍♂️🔍"
   ]
  },
  {
   "cell_type": "code",
   "execution_count": 19,
   "metadata": {
    "id": "zZ_pH68gW4lh"
   },
   "outputs": [
    {
     "data": {
      "text/plain": [
       "'algoescondeestamensagem.poderiasdecifra-la??'"
      ]
     },
     "execution_count": 19,
     "metadata": {},
     "output_type": "execute_result"
    }
   ],
   "source": [
    "#seu código começa aqui\n",
    "\n",
    "mensagem = '@lg0 3$c0nd3 3$t@ m3n$@g3m. P0d3r1@$ d3c1fr@-l@??'\n",
    "\n",
    "#utilizaremos o método de strings .replace, como passado em aula, para limpar a mensagem.\n",
    "# obs: assumi que 'remover os caracteres especiais' significa trocá-los por letras, e não simplesmente tirá-los da mensagem, já que o output não faria muito sentido.\n",
    "\n",
    "mensagem = mensagem.replace('0', 'o')\n",
    "mensagem = mensagem.replace('@', 'a')\n",
    "mensagem = mensagem.replace('3', 'e')\n",
    "mensagem = mensagem.replace('$', 's')\n",
    "mensagem = mensagem.replace('1', 'i')\n",
    "mensagem = mensagem.replace(' ', '') # removendo espaços em branco\n",
    "\n",
    "# por fim, utilizamos .lower para passar a mensagem para letras minúsculas e exibimos a mensagem final.\n",
    "mensagem = mensagem.lower()\n",
    "\n",
    "mensagem"
   ]
  },
  {
   "cell_type": "markdown",
   "metadata": {
    "id": "F91oEp21W4lh"
   },
   "source": [
    "## QUESTÃO 4"
   ]
  },
  {
   "cell_type": "markdown",
   "metadata": {
    "id": "4wHPG3rIW4lh"
   },
   "source": [
    "\n",
    "Você acaba de ingressar no curso de Python do FEA.dev e decide iniciar sua própria consultoria. Parabéns!!! Você logo recebe seu primeiro cliente, a confeitaria e panificadora Confeitos no Forno. Ela tem um grande objetivo em mente: desbancar os concorrentes. Para isso, vai recorrer à tecnologia em seus processos.\n",
    "\n",
    "Sua primeira função é criar um sistema que recebe o valor de cada venda de doce e de salgado e imprima o valor final."
   ]
  },
  {
   "cell_type": "code",
   "execution_count": 32,
   "metadata": {
    "id": "NO8-gwCUW4lh"
   },
   "outputs": [
    {
     "name": "stdin",
     "output_type": "stream",
     "text": [
      "Digite o valor da venda ou 'PARE' para parar:  10\n"
     ]
    },
    {
     "name": "stdout",
     "output_type": "stream",
     "text": [
      "Valor acumulado das vendas: R$ 10.0\n"
     ]
    },
    {
     "name": "stdin",
     "output_type": "stream",
     "text": [
      "Digite o valor da venda ou 'PARE' para parar:  20\n"
     ]
    },
    {
     "name": "stdout",
     "output_type": "stream",
     "text": [
      "Valor acumulado das vendas: R$ 30.0\n"
     ]
    },
    {
     "name": "stdin",
     "output_type": "stream",
     "text": [
      "Digite o valor da venda ou 'PARE' para parar:  50\n"
     ]
    },
    {
     "name": "stdout",
     "output_type": "stream",
     "text": [
      "Valor acumulado das vendas: R$ 80.0\n"
     ]
    },
    {
     "name": "stdin",
     "output_type": "stream",
     "text": [
      "Digite o valor da venda ou 'PARE' para parar:  PARE\n"
     ]
    },
    {
     "name": "stdout",
     "output_type": "stream",
     "text": [
      "Valor final das vendas: 80.0\n"
     ]
    }
   ],
   "source": [
    "#seu código começa aqui\n",
    "\n",
    "\n",
    "# utilizarei estruturas condicionais e loops que ainda não foram passadas, mas foi a maneira que encontrei de resolver o código:\n",
    "# criaremos um código utilizando o loop while para que o usuário continue adicionando valores até desejar parar:\n",
    "\n",
    "total = 0 # definindo uma variável que inicialmente vale zero. somaremos em cima dela.\n",
    "\n",
    "while True:\n",
    "    a = input(\"Digite o valor da venda ou 'PARE' para parar: \") # definindo o input a ser colocado pelo usuário\n",
    "    \n",
    "    if a == 'PARE': # definindo o mecanismo de parada do código.\n",
    "        break\n",
    "    \n",
    "    total += float(a) # somando cada valor inputado à variável 'total', e mostrando o valor acumulado até então.\n",
    "    print('Valor acumulado das vendas: R$',total)\n",
    "\n",
    "print('Valor final das vendas:',total) # por fim, imprimindo o valor final."
   ]
  },
  {
   "cell_type": "markdown",
   "metadata": {
    "id": "6sa5OZE8W4lh"
   },
   "source": [
    "## QUESTÃO 5"
   ]
  },
  {
   "cell_type": "markdown",
   "metadata": {
    "id": "bCxhwbA1W4lh"
   },
   "source": [
    "\n",
    "Excelente! A clientela adorou o programa de fidelidade.\n",
    "Feito isto, chegou a hora de olhar para os processos internos. A ideia é automatizar a lista de compra da semana, antes feita no papel."
   ]
  },
  {
   "cell_type": "markdown",
   "metadata": {
    "id": "fTv99gVUW4li"
   },
   "source": [
    "a) Visto que a demanda por salgados diminuiu e a de doces aumentou, o Padeiro Chef resolveu retirar alguns produtos salgados do cardápio. Por isso, ingredientes como Milho, Calabresa e Lombo não serão mais necessários. Em contrapartida, é necessário acrescentar na lista de compras Açúcar e o fermento Levain. Atualize a lista de compras por meio do Python"
   ]
  },
  {
   "cell_type": "code",
   "execution_count": 35,
   "metadata": {
    "id": "xMa2s64dW4li"
   },
   "outputs": [
    {
     "data": {
      "text/plain": [
       "['Farinha de Trigo',\n",
       " 'Ovos',\n",
       " 'Fermento Biológico',\n",
       " 'Leite',\n",
       " 'Champignon',\n",
       " 'Molho de Tomate',\n",
       " 'Frango',\n",
       " 'Requeijão',\n",
       " 'Lombo',\n",
       " 'Açúcar',\n",
       " 'Levain']"
      ]
     },
     "execution_count": 35,
     "metadata": {},
     "output_type": "execute_result"
    }
   ],
   "source": [
    "compras = ['Farinha de Trigo', 'Ovos', 'Fermento Biológico', 'Leite', 'Calabresa', 'Milho',\n",
    "           'Champignon', 'Molho de Tomate', 'Frango', 'Requeijão', 'Lombo']\n",
    "\n",
    "##### Seu código começa aqui\n",
    "\n",
    "# removendo Milho, Calabresa e Lombo utilizando .remove:\n",
    "\n",
    "compras.remove('Calabresa')\n",
    "compras.remove('Milho')\n",
    "\n",
    "# adicionando Açúcar e Levain utilizando .append:\n",
    "\n",
    "compras.append('Açúcar')\n",
    "compras.append('Levain')\n",
    "\n",
    "# exibindo o resultado final\n",
    "\n",
    "compras "
   ]
  },
  {
   "cell_type": "markdown",
   "metadata": {
    "id": "Cui4qIWfW4li"
   },
   "source": [
    "b) Enquanto você estava com o computador ligado, um hacker do concorrente resolveu atacar sua lista de compras invertendo alguns dos itens, como se vê abaixo:"
   ]
  },
  {
   "cell_type": "markdown",
   "metadata": {
    "id": "IXG59tnGW4li"
   },
   "source": [
    "![Captura%20de%20tela%202023-09-24%20135736.png](attachment:Captura%20de%20tela%202023-09-24%20135736.png)"
   ]
  },
  {
   "cell_type": "markdown",
   "metadata": {
    "id": "G5xWY1z1W4li"
   },
   "source": [
    "Conserte os valores que foram adulterados e imprima a lista corrigida."
   ]
  },
  {
   "cell_type": "code",
   "execution_count": 41,
   "metadata": {
    "id": "nvdNhoBzW4li"
   },
   "outputs": [
    {
     "data": {
      "text/plain": [
       "['Farinha de Trigo',\n",
       " 'Leite',\n",
       " 'Fermento Biológico',\n",
       " 'Champignon',\n",
       " 'Molho de Tomate',\n",
       " 'Frango',\n",
       " 'Requeijão',\n",
       " 'Ovo',\n",
       " 'Levain',\n",
       " 'Açúcar']"
      ]
     },
     "execution_count": 41,
     "metadata": {},
     "output_type": "execute_result"
    }
   ],
   "source": [
    "sarpmoc = ['ogirT ed ahniraF', 'Leite', 'Fermento Biológico', 'Champignon', 'etamoT ed ohloM', 'Frango',\n",
    "           'Requeijão', 'Ovo', 'niaveL', 'Açúcar']\n",
    "#### Seu código começa aqui\n",
    "# utilizando nos colchetes o índice de cada item para localizá-los dentro da lista e [::-1] para corrigí-los:\n",
    "\n",
    "sarpmoc[0]= sarpmoc[0][::-1] \n",
    "sarpmoc[4]= sarpmoc[4][::-1]\n",
    "sarpmoc[8]= sarpmoc[8][::-1]\n",
    "\n",
    "sarpmoc\n"
   ]
  },
  {
   "cell_type": "markdown",
   "metadata": {
    "id": "pYXvI67ZW4li"
   },
   "source": [
    "c) Após esse duro golpe, você percebe que é necessário guardar as informações importantes em uma estrutura de dados que seja mais segura (isto é, que não seja mutável). Converta a lista de compras para uma estrutura com estas características e imprima o tipo da variável. &nbsp; Dica: Utilize a função type() para obter o tipo da variável"
   ]
  },
  {
   "cell_type": "code",
   "execution_count": 47,
   "metadata": {
    "id": "3E5KIrBAW4li"
   },
   "outputs": [
    {
     "data": {
      "text/plain": [
       "tuple"
      ]
     },
     "execution_count": 47,
     "metadata": {},
     "output_type": "execute_result"
    }
   ],
   "source": [
    "#seu código começa aqui\n",
    "\n",
    "sarpmoc = tuple(sarpmoc)\n",
    "\n",
    "type(sarpmoc)\n",
    "\n",
    "# vale ressaltar que se tentássemos fazer o que fizemos no exercício acima com uma tupla, daria erro. "
   ]
  },
  {
   "cell_type": "markdown",
   "metadata": {
    "id": "0u6zVHGGW4li"
   },
   "source": [
    "![af5addc01d02cc4bc54fd86a456e3dce90d2e4276b59c876cea22cc84e9a4f07_1.jpg](attachment:af5addc01d02cc4bc54fd86a456e3dce90d2e4276b59c876cea22cc84e9a4f07_1.jpg)"
   ]
  },
  {
   "cell_type": "markdown",
   "metadata": {
    "id": "o46xFepsW4li"
   },
   "source": [
    "## QUESTÃO 6"
   ]
  },
  {
   "cell_type": "markdown",
   "metadata": {
    "id": "CZOheOO6W4li"
   },
   "source": [
    "Empresas modernas se importam com ESG (Environmental, Social and Governance). A Confeitaria no Forno não seria diferente, e sua missão é auxiliar a empresa a reduzir as emissões de lixo em sua operação. &nbsp;\n",
    "\n"
   ]
  },
  {
   "cell_type": "markdown",
   "metadata": {
    "id": "s9qUFp6sW4ll"
   },
   "source": [
    "![ac137a44f5f8cd3c6126fc8ff8c24fff.jpg](attachment:ac137a44f5f8cd3c6126fc8ff8c24fff.jpg)"
   ]
  },
  {
   "cell_type": "markdown",
   "metadata": {
    "id": "FvyYqEqfW4ll"
   },
   "source": [
    " O primeiro passo será tornar o panfleto digital, de forma que seja enviado pelas redes sociais e não precise ser impresso e consequentemente descartável. Para demonstrar essa funcionalidade ao dono, você deve criar um exemplo de panfleto que contenha os salgados, os doces, os tipos de bebida e  os adicionais, conforme os valores a seguir:\n",
    "-  Salgados: Coxinha de Frango, Misto Quente e Ovos Mexidos;\n",
    "-  Doces: Bolo de Chocolate, Torta de Limão e Brigadeiro;\n",
    "-  Bebidas: Guaraná, Cola, Suco de Laranja e Suco de Uva;\n",
    "-  Adicionais: Bacon, Requeijão, Chocolate e Morango\n",
    "\n",
    "Imprima o panfleto final"
   ]
  },
  {
   "cell_type": "code",
   "execution_count": 50,
   "metadata": {
    "id": "nW6fnuyaW4ll"
   },
   "outputs": [
    {
     "name": "stdout",
     "output_type": "stream",
     "text": [
      " \n",
      "=============================\n",
      "       PANFLETO DIGITAL\n",
      "=============================\n",
      "\n",
      "SALGADOS:\n",
      "- Coxinha de Frango\n",
      "- Misto Quente\n",
      "- Ovos Mexidos\n",
      "\n",
      "DOCES:\n",
      "- Bolo de Chocolate\n",
      "- Torta de Limão\n",
      "- Brigadeiro\n",
      "\n",
      "BEBIDAS:\n",
      "- Guaraná\n",
      "- Cola\n",
      "- Suco de Laranja\n",
      "- Suco de Uva\n",
      "\n",
      "ADICIONAIS:\n",
      "- Bacon\n",
      "- Requeijão\n",
      "- Chocolate\n",
      "- Morango\n",
      "\n"
     ]
    }
   ],
   "source": [
    "### Seu código começa aqui\n",
    "\n",
    "# neste código vale apenas ressaltar o uso das aspas triplas, que permite que uma string tenha mais de uma linha.\n",
    "\n",
    "panfleto = \"\"\" \n",
    "=============================\n",
    "       PANFLETO DIGITAL\n",
    "=============================\n",
    "\n",
    "SALGADOS:\n",
    "- Coxinha de Frango\n",
    "- Misto Quente\n",
    "- Ovos Mexidos\n",
    "\n",
    "DOCES:\n",
    "- Bolo de Chocolate\n",
    "- Torta de Limão\n",
    "- Brigadeiro\n",
    "\n",
    "BEBIDAS:\n",
    "- Guaraná\n",
    "- Cola\n",
    "- Suco de Laranja\n",
    "- Suco de Uva\n",
    "\n",
    "ADICIONAIS:\n",
    "- Bacon\n",
    "- Requeijão\n",
    "- Chocolate\n",
    "- Morango\n",
    "\"\"\"\n",
    "\n",
    "print(panfleto)\n"
   ]
  },
  {
   "cell_type": "markdown",
   "metadata": {
    "id": "E1GC4TqnW4lm"
   },
   "source": [
    "### DESAFIO"
   ]
  },
  {
   "cell_type": "markdown",
   "metadata": {
    "id": "rAnboCtqW4lm"
   },
   "source": [
    "Sucesso! A Confeitaria no Forno tornou-se uma multinacional que engoliu todas as concorrentes. Querendo crescer ainda mais, o Chef sugeriu um novo recurso: deixar os clientes montar e personalizar os doces. Para isso, foi feito um dicionário com todos os ingredientes e os respectivos preços.\n",
    "\n",
    "Temos os seguintes pedidos:\n",
    "\n",
    "-  1: Bolo de Baunilha com Ganache de Chocolate e Decoração de Chocolate Belga\n",
    "-  2: Bolo de Chocolate com Creme de Baunilha e Confete Colorido\n",
    "-  3: Massa Folhada com Merengue de Morango e Frutas Vermelhas\n",
    "\n",
    "Imprima uma lista com todos os itens do pedido e seu preço final que será retornado ao cliente. Armazene o valor das vendas de forma que não seja possível alterar seus valores e imprima."
   ]
  },
  {
   "cell_type": "code",
   "execution_count": 11,
   "metadata": {
    "id": "cIQlmkZLW4lm"
   },
   "outputs": [],
   "source": [
    "### Seu código começa aqui\n",
    "ingredientes = {\n",
    "    'massas': {\n",
    "        'Bolo de Baunilha': 25.00,\n",
    "        'Bolo de Chocolate': 15.00,\n",
    "        'Massa Folhada': 30.00,\n",
    "    },\n",
    "    'coberturas': {\n",
    "        'Creme de Baunilha': 12.00,\n",
    "        'Ganache de Chocolate': 15.00,\n",
    "        'Merengue de Morango': 20.00,\n",
    "    },\n",
    "    'recheios': {\n",
    "        'Frutas Vermelhas': 22.00,\n",
    "        'Ganache de Morango': 16.50,\n",
    "        'Creme de Limão': 14.00,\n",
    "        'Creme de Coco': 18.00,\n",
    "    },\n",
    "    'decorações': {\n",
    "        'Confete Colorido': 5.00,\n",
    "        'Chocolate Belga': 20.00,\n",
    "        'Frutas Secas': 12.00,\n",
    "    }\n",
    "}\n"
   ]
  }
 ],
 "metadata": {
  "colab": {
   "provenance": []
  },
  "kernelspec": {
   "display_name": "Python 3 (ipykernel)",
   "language": "python",
   "name": "python3"
  },
  "language_info": {
   "codemirror_mode": {
    "name": "ipython",
    "version": 3
   },
   "file_extension": ".py",
   "mimetype": "text/x-python",
   "name": "python",
   "nbconvert_exporter": "python",
   "pygments_lexer": "ipython3",
   "version": "3.12.2"
  }
 },
 "nbformat": 4,
 "nbformat_minor": 4
}
