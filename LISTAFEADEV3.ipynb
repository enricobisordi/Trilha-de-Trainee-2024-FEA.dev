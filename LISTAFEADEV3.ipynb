{
  "cells": [
    {
      "cell_type": "markdown",
      "metadata": {
        "id": "9-DlSZ3H2Ojr"
      },
      "source": [
        "![WhatsApp%20Image%202023-09-10%20at%2011.20.28.jpeg](attachment:WhatsApp%20Image%202023-09-10%20at%2011.20.28.jpeg)\n"
      ]
    },
    {
      "cell_type": "markdown",
      "metadata": {
        "id": "QUwfRZnD2Ojt"
      },
      "source": [
        "# Fala devs, blz??\n",
        "\n",
        "Esta será nossa terceira lista de exercícios para você testar seu conhecimento acerca do conteúdo do MÓDULO 3:\n",
        "\n",
        "-Funções"
      ]
    },
    {
      "cell_type": "markdown",
      "metadata": {
        "id": "qKmPgIEp2Ojt"
      },
      "source": [
        "## INSTRUÇÕES:\n",
        "\n",
        "A lista deve ser realizada pelo Jupyter Notebook.\n",
        "\n",
        "A entrega das listas ou pelo menos sua excecução é recomendada a fim de exercitar todo o conhecimento adquirido do curso.\n",
        "\n",
        "O DESAFIO é para realmente te desafiar, por isso não desista de tentar e de continuar com o curso, ao longo das listas você verá que cada vez mais você terá ferramentas para completá-lo.\n",
        "\n",
        "Caso haja alguma dúvida acerca da lista participe das monitorias que serão oferecidas as quintas e sábados das 17h as 18h pelo DISCORD. Caso seu problema não seje resolvido envie uma mensagem para contato.feadev@gmail.com\n",
        "\n",
        "O gabarito será disponibilizado na plataforma após o término de periodo de envio\n",
        "\n"
      ]
    },
    {
      "cell_type": "markdown",
      "metadata": {
        "id": "7uTmpwSV2Oju"
      },
      "source": [
        "## QUESTÃO 0"
      ]
    },
    {
      "cell_type": "markdown",
      "metadata": {
        "id": "6FRg44sZ2Oju"
      },
      "source": [
        "Pensando em viajar no fim do ano pra Alemanha, crie uma função que converta valores euro para real. Considere que 1 euro equivale a 5.34 reais.\n",
        "\n",
        "O orçamento da viagem está em 4500 euros, quantos reais você deverá guardar na sua poupança para garantir as férias?"
      ]
    },
    {
      "cell_type": "markdown",
      "metadata": {
        "id": "S6j4iyVl2Oju"
      },
      "source": [
        "![Captura%20de%20tela%202023-10-19%20143306.png](attachment:Captura%20de%20tela%202023-10-19%20143306.png)"
      ]
    },
    {
      "cell_type": "code",
      "execution_count": 1,
      "metadata": {
        "colab": {
          "base_uri": "https://localhost:8080/"
        },
        "id": "KgksIQVx2Oju",
        "outputId": "fe03a76c-8bb2-4a33-cdcb-42855e3bf18a"
      },
      "outputs": [
        {
          "output_type": "stream",
          "name": "stdout",
          "text": [
            "Quantos euros você deseja converter para real? 4500\n",
            "Para obter 4500.0 euros você precisará de R$24030.0!\n"
          ]
        }
      ],
      "source": [
        "#seu código começa aqui\n",
        "\n",
        "def conversao():\n",
        "  euro = float(input('Quantos euros você deseja converter para real? ')) # recebe como input a quantidade de euros. seria possível colocar direto no argumento, mas assim fica mais fácil ao usuário.\n",
        "  real = euro*5.34 # converte de acordo com a taxa dada\n",
        "  print(f'Para obter {euro} euros você precisará de R${real}!') #exibe o resultado\n",
        "\n",
        "conversao()"
      ]
    },
    {
      "cell_type": "markdown",
      "metadata": {
        "id": "e8N59C3o2Ojv"
      },
      "source": [
        "## QUESTÃO 1\n"
      ]
    },
    {
      "cell_type": "markdown",
      "metadata": {
        "id": "AzN_LPN32Ojw"
      },
      "source": [
        "Uma função em Python é uma sequência de códigos que possui nome próprio, executa tarefas específicas e evita repetição de código, podendo ser chamada pelo seu nome. Há funções já determinadas como print() e input(), entretanto, nesta lista de exercícios criaremos nossas próprias funções!\n"
      ]
    },
    {
      "cell_type": "markdown",
      "metadata": {
        "id": "IoBTrBcK2Ojw"
      },
      "source": [
        "Você adicionou o curso de Python da FEA.dev em seu currículo e foi contratado como estagiário na Amazon! Sua tarefa na empresa é automatizar o máximo de processos possíveis e, para isso, precisará criar muitas funções facilitadoras.\n",
        "\n",
        "Começaremos com dois exemplos básicos apenas como demonstração."
      ]
    },
    {
      "cell_type": "markdown",
      "metadata": {
        "id": "dkt0D47h2Ojw"
      },
      "source": [
        "![Captura%20de%20tela%202023-10-19%20143652.png](attachment:Captura%20de%20tela%202023-10-19%20143652.png)"
      ]
    },
    {
      "cell_type": "code",
      "execution_count": 2,
      "metadata": {
        "colab": {
          "base_uri": "https://localhost:8080/"
        },
        "id": "SEixF1UX2Ojw",
        "outputId": "122fa07f-e291-4148-f5c4-fbbfee6170a4"
      },
      "outputs": [
        {
          "output_type": "stream",
          "name": "stdout",
          "text": [
            "Bom dia!\n",
            "12\n"
          ]
        }
      ],
      "source": [
        "def bomdia():\n",
        "    print('Bom dia!')\n",
        "\n",
        "#função com parâmetros e retornando um valor\n",
        "def soma(a, b):\n",
        "    print (a + b)\n",
        "\n",
        "\n",
        "bomdia()\n",
        "soma(5, 7) # 5 e 7 são argumentos da função soma"
      ]
    },
    {
      "cell_type": "markdown",
      "metadata": {
        "id": "vWQ2zuVJ2Ojx"
      },
      "source": [
        "**a)Parâmetros Opcionais:**\n",
        "\n",
        "Observando o departamento de contabilidade da Amazon, você percebeu que os funcionários passam o dia multiplicando valores e, como um bom programador, resolveu tornar esse processo mais eficiente. Desenvolva a função mult, que retorna a multiplicação dos parâmetros \"a\", \"b\", \"c\" e \"d\". Porém, a função não precisa necessariamente receber os 4 argumentos. Caso um parâmetro não receba um argumento, ele deve valer 1."
      ]
    },
    {
      "cell_type": "code",
      "execution_count": 3,
      "metadata": {
        "colab": {
          "base_uri": "https://localhost:8080/"
        },
        "id": "jkUawQkj2Ojx",
        "outputId": "731a2cba-3bda-4b34-f8af-637a789a2a82"
      },
      "outputs": [
        {
          "output_type": "execute_result",
          "data": {
            "text/plain": [
              "40"
            ]
          },
          "metadata": {},
          "execution_count": 3
        }
      ],
      "source": [
        "#seu código começa aqui\n",
        "\n",
        "def mult(a=1, b=1, c=1, d=1): # aqui estamos pré especificando cada parâmetro como 1, de forma que quando não colocamos todos os parâmetros, eles são assumidos como 1.\n",
        "    return a * b * c * d # retorna a multiplicação dos termos.\n",
        "\n",
        "mult(5,8)"
      ]
    },
    {
      "cell_type": "markdown",
      "metadata": {
        "id": "1lBLgydq2Ojx"
      },
      "source": [
        "**b)Return X Print:**\n",
        "\n",
        "Antes de tudo, rode todas as células do jupyter.\n",
        "\n",
        "O Jeff Bezos está desesperado, pois não consegue solucionar um erro de código que está impedindo a empresa de continuar funcionando. Assim, ele te ligou para ajudá-lo a corrigir tal erro.\n",
        "Rode o código abaixo para identificar o erro.\n",
        "(não altere o código, o erro foi planejado)"
      ]
    },
    {
      "cell_type": "code",
      "execution_count": 4,
      "metadata": {
        "colab": {
          "base_uri": "https://localhost:8080/",
          "height": 280
        },
        "id": "ZKzq2sD12Ojx",
        "outputId": "412398f1-2c58-41da-8dd0-466d3f81d7f9"
      },
      "outputs": [
        {
          "output_type": "stream",
          "name": "stdout",
          "text": [
            "10\n"
          ]
        },
        {
          "output_type": "error",
          "ename": "TypeError",
          "evalue": "unsupported operand type(s) for *: 'NoneType' and 'int'",
          "traceback": [
            "\u001b[0;31m---------------------------------------------------------------------------\u001b[0m",
            "\u001b[0;31mTypeError\u001b[0m                                 Traceback (most recent call last)",
            "\u001b[0;32m<ipython-input-4-d58fef185387>\u001b[0m in \u001b[0;36m<cell line: 1>\u001b[0;34m()\u001b[0m\n\u001b[0;32m----> 1\u001b[0;31m \u001b[0mmult\u001b[0m\u001b[0;34m(\u001b[0m\u001b[0msoma\u001b[0m\u001b[0;34m(\u001b[0m\u001b[0;36m5\u001b[0m\u001b[0;34m,\u001b[0m \u001b[0;36m5\u001b[0m\u001b[0;34m)\u001b[0m\u001b[0;34m,\u001b[0m \u001b[0;36m10\u001b[0m\u001b[0;34m)\u001b[0m\u001b[0;34m\u001b[0m\u001b[0;34m\u001b[0m\u001b[0m\n\u001b[0m",
            "\u001b[0;32m<ipython-input-3-3dad7f6a41cd>\u001b[0m in \u001b[0;36mmult\u001b[0;34m(a, b, c, d)\u001b[0m\n\u001b[1;32m      2\u001b[0m \u001b[0;34m\u001b[0m\u001b[0m\n\u001b[1;32m      3\u001b[0m \u001b[0;32mdef\u001b[0m \u001b[0mmult\u001b[0m\u001b[0;34m(\u001b[0m\u001b[0ma\u001b[0m\u001b[0;34m=\u001b[0m\u001b[0;36m1\u001b[0m\u001b[0;34m,\u001b[0m \u001b[0mb\u001b[0m\u001b[0;34m=\u001b[0m\u001b[0;36m1\u001b[0m\u001b[0;34m,\u001b[0m \u001b[0mc\u001b[0m\u001b[0;34m=\u001b[0m\u001b[0;36m1\u001b[0m\u001b[0;34m,\u001b[0m \u001b[0md\u001b[0m\u001b[0;34m=\u001b[0m\u001b[0;36m1\u001b[0m\u001b[0;34m)\u001b[0m\u001b[0;34m:\u001b[0m \u001b[0;31m# aqui estamos pré especificando cada parâmetro como 1, de forma que quando não colocamos todos os parâmetros, eles são assumidos como 1.\u001b[0m\u001b[0;34m\u001b[0m\u001b[0;34m\u001b[0m\u001b[0m\n\u001b[0;32m----> 4\u001b[0;31m     \u001b[0;32mreturn\u001b[0m \u001b[0ma\u001b[0m \u001b[0;34m*\u001b[0m \u001b[0mb\u001b[0m \u001b[0;34m*\u001b[0m \u001b[0mc\u001b[0m \u001b[0;34m*\u001b[0m \u001b[0md\u001b[0m \u001b[0;31m# retorna a multiplicação dos termos.\u001b[0m\u001b[0;34m\u001b[0m\u001b[0;34m\u001b[0m\u001b[0m\n\u001b[0m\u001b[1;32m      5\u001b[0m \u001b[0;34m\u001b[0m\u001b[0m\n\u001b[1;32m      6\u001b[0m \u001b[0mmult\u001b[0m\u001b[0;34m(\u001b[0m\u001b[0;36m5\u001b[0m\u001b[0;34m,\u001b[0m\u001b[0;36m8\u001b[0m\u001b[0;34m)\u001b[0m\u001b[0;34m\u001b[0m\u001b[0;34m\u001b[0m\u001b[0m\n",
            "\u001b[0;31mTypeError\u001b[0m: unsupported operand type(s) for *: 'NoneType' and 'int'"
          ]
        }
      ],
      "source": [
        "mult(soma(5, 5), 10)"
      ]
    },
    {
      "cell_type": "markdown",
      "metadata": {
        "id": "JoQqAYRn2Ojx"
      },
      "source": [
        "Reescreva a função soma para que o erro não ocorra. (Dica: Lembre-se da diferença entre retornar um valor e imprimir um valor)"
      ]
    },
    {
      "cell_type": "code",
      "execution_count": 6,
      "metadata": {
        "colab": {
          "base_uri": "https://localhost:8080/"
        },
        "id": "aN3oXdDK2Ojx",
        "outputId": "d62b41b1-f518-4f1f-a27b-e3a9eaa00b1f"
      },
      "outputs": [
        {
          "output_type": "execute_result",
          "data": {
            "text/plain": [
              "100"
            ]
          },
          "metadata": {},
          "execution_count": 6
        }
      ],
      "source": [
        "##### SEU CODIGO COMEÇA AQUI #####\n",
        "\n",
        "def soma(a, b):\n",
        "    return a + b # dessa forma, utilizando return, é possível colocar soma(5,5), que agora é um número, como argumento em mult.\n",
        "\n",
        "mult(soma(5,5), 10)"
      ]
    },
    {
      "cell_type": "markdown",
      "metadata": {
        "id": "Cd6Ybxo_2Ojx"
      },
      "source": [
        "## QUESTÃO 2\n",
        "\n"
      ]
    },
    {
      "cell_type": "markdown",
      "metadata": {
        "id": "aY21bsxx2Ojx"
      },
      "source": [
        "Você está criando um jogo de \"Caça ao Tesouro\" onde o jogador é um aventureiro em busca de um tesouro escondido em uma linha misteriosa. O tesouro está localizado em um ponto específico da linha e o jogador precisa descobrir sua localização.\n",
        "\n",
        "**Instruções:**\n",
        "\n",
        "O programa gera aleatoriamente a posição do tesouro na linha, que varia de 1 a 100.\n",
        "\n",
        "O jogador é informado de que o tesouro está escondido em algum lugar da linha e recebe um mapa rudimentar mostrando os extremos da linha.\n",
        "\n",
        "O jogador insere suas coordenadas de palpite (um número inteiro representando a posição na linha) e pressiona \"Enter\".\n",
        "\n",
        "O programa fornece feedback ao jogador, indicando se o palpite está próximo demais, muito longe ou se acertou exatamente a localização do tesouro.\n",
        "\n",
        "O jogador continua a adivinhar até encontrar o tesouro.\n",
        "\n",
        "O programa informa quantas tentativas foram necessárias para o jogador encontrar o tesouro."
      ]
    },
    {
      "cell_type": "markdown",
      "metadata": {
        "id": "_QCEkXNF2Ojx"
      },
      "source": [
        "**Exemplo**\n",
        "\n",
        "Bem-vindo à Caça ao Tesouro! Tente adivinhar a posição do tesouro entre 1 e 100.\n",
        "\n",
        "Digite o seu palpite: 50 O número é maior. Tente novamente.\n",
        "\n",
        "Digite o seu palpite: 25 O número é maior. Tente novamente.\n",
        "\n",
        "Digite o seu palpite: 37 O número é menor. Tente novamente.\n",
        "\n",
        "Digite o seu palpite: 42 Parabéns! Você achou o tesouro na posição 42 em 4 tentativas.\n"
      ]
    },
    {
      "cell_type": "code",
      "execution_count": 14,
      "metadata": {
        "colab": {
          "base_uri": "https://localhost:8080/"
        },
        "id": "vXlK8u432Ojy",
        "outputId": "b3766c98-fe02-4844-881c-d47b73782d73"
      },
      "outputs": [
        {
          "output_type": "stream",
          "name": "stdout",
          "text": [
            "Bem-vindo à Caça ao Tesouro! Tente adivinhar a posição do tesouro entre 1 e 100.\n",
            "Digite o seu palpite: 50\n",
            "O número é menor. Tente novamente.\n",
            "Digite o seu palpite: 20\n",
            "O número é menor. Tente novamente.\n",
            "Digite o seu palpite: 10\n",
            "O número é menor. Tente novamente.\n",
            "Digite o seu palpite: 6\n",
            "O número é maior. Tente novamente.\n",
            "Digite o seu palpite: 8\n",
            "O número é maior. Tente novamente.\n",
            "Digite o seu palpite: 9\n",
            "Parabéns! Você achou o tesouro na posição 9 em 6 tentativas.\n"
          ]
        }
      ],
      "source": [
        "# seu código começa aqui\n",
        "\n",
        "import random # para utilizarmos randint, como na lista passada.\n",
        "\n",
        "def tesouro():\n",
        "  print('Bem-vindo à Caça ao Tesouro! Tente adivinhar a posição do tesouro entre 1 e 100.')\n",
        "  a = random.randint(1,100)  # definindo uma variável como um número aleatório entre 1 e 100, incluindo ambos.\n",
        "  tentativas = 0 # iniciando um contador.\n",
        "  while True:\n",
        "    b = int(input('Digite o seu palpite: ')) # definindo o número a ser inputado pelo usuário.\n",
        "\n",
        "    # agora será feita uma estrutura condicional para avaliar a em relação a b, dizendo se é maior, igual ou menor.\n",
        "\n",
        "    if b > a:\n",
        "      print('O número é menor. Tente novamente.')\n",
        "      tentativas += 1 # em cada um dos casos, adicionamos 1 à tentativas.\n",
        "    elif b < a:\n",
        "      print('O número é maior. Tente novamente.')\n",
        "      tentativas += 1\n",
        "    else:\n",
        "      tentativas += 1\n",
        "      print(f'Parabéns! Você achou o tesouro na posição {a} em {tentativas} tentativas.') # quando a e b forem iguais, o jogo está encerrado. utilizamos break para encerrar o código.\n",
        "      break\n",
        "\n",
        "tesouro()"
      ]
    },
    {
      "cell_type": "markdown",
      "metadata": {
        "id": "tS9pXgsl2Ojy"
      },
      "source": [
        "## QUESTÃO 3"
      ]
    },
    {
      "cell_type": "markdown",
      "metadata": {
        "id": "tX7mxrHF2Ojy"
      },
      "source": [
        "**Descobrir a palavra secreta**\n",
        "\n",
        "Vamos imaginar que estamos desenvolvendo um jogo de \"Descobrir a Palavra Secreta\" onde o jogador precisa adivinhar uma palavra secreta, letra por letra, antes de cometer muitos erros e falhar.\n",
        "\n",
        "**Instrução:**\n",
        "\n",
        "Desenvolva uma função chamada verificar_letra que receba dois parâmetros: a palavra secreta e uma letra. Esta função deve verificar se a letra fornecida está presente na palavra secreta. Se a letra estiver na palavra secreta, a função deve retornar True; caso contrário, deve retornar False. A função só aceitará uma letra como entrada.\n",
        "\n",
        "Essas são as novas diretrizes para a função verificar_letra no jogo de \"Descobrir a Palavra Secreta\". Agora você pode começar a implementar essa função!"
      ]
    },
    {
      "cell_type": "code",
      "execution_count": 7,
      "metadata": {
        "colab": {
          "base_uri": "https://localhost:8080/"
        },
        "id": "2X2c1x4P2Ojy",
        "outputId": "dd75bccc-fc0a-400b-8354-d4e0c900c5fd"
      },
      "outputs": [
        {
          "output_type": "execute_result",
          "data": {
            "text/plain": [
              "True"
            ]
          },
          "metadata": {},
          "execution_count": 7
        }
      ],
      "source": [
        "# seu codigo começa aqui\n",
        "\n",
        "palavra_secreta = 'FEAdev' # começamos definindo a palavra a ser adivinhada.\n",
        "\n",
        "def verificar_letra(palavra_secreta, letra):\n",
        "    palavra_secreta = palavra_secreta.lower()\n",
        "    letra = letra.lower() # passando tanto a palavra quanto a letra para letra minúscula, para deixar de haver a distinção entre F e f, por exemplo.\n",
        "    if len(letra) != 1:\n",
        "        print('A entrada deve ser uma única letra.')\n",
        "        return # esse pedaço do código serve para caso seja colocada mais de uma letra. return 'vazio' serve para o código continuar rodando.\n",
        "    return letra in palavra_secreta # retorna falso ou verdadeiro a depender da letra colocada.\n",
        "\n",
        "verificar_letra(palavra_secreta, 'D')"
      ]
    },
    {
      "cell_type": "markdown",
      "metadata": {
        "id": "NHMjcG7j2Ojy"
      },
      "source": [
        "# QUESTÃO 4"
      ]
    },
    {
      "cell_type": "markdown",
      "metadata": {
        "id": "dY3HUYzM2Ojy"
      },
      "source": [
        "**Criptografia**\n",
        "\n",
        "Vamos supor que você esteja criando uma função para auxiliar em um jogo de criptografia onde é necessário embaralhar as letras de uma palavra para ocultar sua mensagem.\n",
        "\n",
        "**Instrução:**\n",
        "\n",
        "Escreva uma função chamada embaralhar_palavra que aceite uma palavra como argumento e retorne a mesma palavra com suas letras embaralhadas. Independentemente da entrada estar em maiúsculas ou minúsculas, a saída deve estar sempre em letras minúsculas.\n",
        "\n",
        "A palavra que você deve embaralhar é \"criptografar\".\n",
        "\n",
        "Essas são as diretrizes para a função embaralhar_palavra no contexto de criptografia. Agora você pode começar a implementar essa função!"
      ]
    },
    {
      "cell_type": "code",
      "execution_count": 90,
      "metadata": {
        "colab": {
          "base_uri": "https://localhost:8080/",
          "height": 35
        },
        "id": "OrAAA73o2Ojy",
        "outputId": "7bba6828-b530-4f58-c3d0-b655d274157f"
      },
      "outputs": [
        {
          "output_type": "execute_result",
          "data": {
            "text/plain": [
              "'roapifcgrtar'"
            ],
            "application/vnd.google.colaboratory.intrinsic+json": {
              "type": "string"
            }
          },
          "metadata": {},
          "execution_count": 90
        }
      ],
      "source": [
        "#SEU CÓDIGO COMEÇA AQUI##\n",
        "\n",
        "def embaralhar_palavra(palavra):\n",
        "\n",
        "    palavra = palavra.lower() # novamente passando tudo para minúscula.\n",
        "    indices = list(range(0, len(palavra))) # definindo uma lista de índices a partir do comprimento da palavra.\n",
        "\n",
        "    random.seed() # definindo uma seed fixa da biblioteca random, para haver aleatoriedade.\n",
        "\n",
        "    indices_embaralhados = random.sample(indices, len(indices)) # .sample aqui serve para, basicamente, pegar os índices inicialmente ordenados e embaralhar.\n",
        "    palavra_embaralhada = ''.join(palavra[i] for i in indices_embaralhados) # agora estamos juntando as letras, que estão agora com os índices fora de ordem.\n",
        "\n",
        "    return palavra_embaralhada # retorna a palavra embaralhada.\n",
        "\n",
        "embaralhar_palavra('CRIPTOGRAFAR')"
      ]
    },
    {
      "cell_type": "markdown",
      "metadata": {
        "id": "MGsVWEry2Ojy"
      },
      "source": [
        "## QUESTÃO 5"
      ]
    },
    {
      "cell_type": "markdown",
      "metadata": {
        "id": "jIzKWGNz2Ojy"
      },
      "source": [
        "Você está desenvolvendo uma função chamada eh_numero_impar que verifica se um número é par ou ímpar. Esta função ajudará a determinar se um número dado é ou não divisível por 2.\n",
        "\n",
        "**Instruções:**\n",
        "\n",
        "Crie uma função chamada eh_numero_impar que aceite um número como argumento.\n",
        "\n",
        "Dentro da função, verifique se o número é divisível por 2. Se for divisível por 2, retorne False. Caso contrário, retorne True."
      ]
    },
    {
      "cell_type": "code",
      "execution_count": 8,
      "metadata": {
        "colab": {
          "base_uri": "https://localhost:8080/"
        },
        "id": "rTUHcr-R2Ojy",
        "outputId": "61117184-03c9-4b0d-a190-52b77ba500ef"
      },
      "outputs": [
        {
          "output_type": "execute_result",
          "data": {
            "text/plain": [
              "True"
            ]
          },
          "metadata": {},
          "execution_count": 8
        }
      ],
      "source": [
        "### Seu código começa aqui\n",
        "\n",
        "def eh_numero_impar(numero):\n",
        "\n",
        "  # temos que um número ímpar dividido por 2 terá sempre resto 1. podemos utilizar esse critério para verificar se ele de fato é impar:\n",
        "\n",
        "  return numero % 2 == 1 # retorna se é verdadeira ou falsa a afirmação de que o resto da divisão do número por 2 é 1, como queremos.\n",
        "\n",
        "eh_numero_impar(13)"
      ]
    },
    {
      "cell_type": "markdown",
      "metadata": {
        "id": "8NxeEwea2Ojy"
      },
      "source": [
        "## QUESTÃO 6"
      ]
    },
    {
      "cell_type": "markdown",
      "metadata": {
        "id": "xuooBp5M2Ojy"
      },
      "source": [
        "Suponha que você esteja desenvolvendo um sistema para uma loja de cupcakes que permite aos clientes escolherem a cobertura dos seus cupcakes. Crie a função escolher_cobertura para auxiliar os clientes na escolha das coberturas disponíveis.\n",
        "\n",
        "Crie uma função chamada escolher_sabores que aceite uma lista de sabores de cobertura como argumento. A função deve escolher aleatoriamente uma cobertura da lista e retorná-la."
      ]
    },
    {
      "cell_type": "code",
      "execution_count": 16,
      "metadata": {
        "colab": {
          "base_uri": "https://localhost:8080/"
        },
        "id": "Lv_P1zXR2Ojz",
        "outputId": "0262b6f6-3b56-403c-8f06-56ef2da9fac1"
      },
      "outputs": [
        {
          "output_type": "stream",
          "name": "stdout",
          "text": [
            "Estão disponíveis as seguintes coberturas: Baunilha, Chocolate, Morango, Creme, Café, Chocolate com menta\n"
          ]
        }
      ],
      "source": [
        "coberturas_disponíveis = [\"Baunilha\", \"Chocolate\", \"Morango\", \"Creme\", \"Café\", \"Chocolate com menta\"]\n",
        "\n",
        "# o exercício pede 2 funções. a primeira para auxiliar o cliente à escolher uma cobertura:\n",
        "\n",
        "def escolher_cobertura(coberturas_disponiveis):\n",
        "  # vamos simplesmente dar como argumento as coberturas disponíveis e colocá-las no output organizadamente:\n",
        "  print('Estão disponíveis as seguintes coberturas:', ', '.join(coberturas_disponiveis)) # .join foi utilizado para transformar uma lista em uma string seguida da outra.\n",
        "\n",
        "# a segunda função utiliza .choice para escolher aleatóriamente 1 cobertura dentre as disponíveis.\n",
        "\n",
        "def escolher_sabores(coberturas_disponiveis):\n",
        "    return random.choice(coberturas_disponiveis) # obs: não foi necessário importar random pq já fizemos isso anteriormente.\n",
        "\n",
        "# testando a primeira função:\n",
        "escolher_cobertura(coberturas_disponíveis)"
      ]
    },
    {
      "cell_type": "code",
      "source": [
        "# testando a segunda função:\n",
        "escolher_sabores(coberturas_disponíveis)"
      ],
      "metadata": {
        "colab": {
          "base_uri": "https://localhost:8080/",
          "height": 35
        },
        "id": "SvG3XYKOTuVl",
        "outputId": "43ed18f0-941e-4d90-aa2a-51222e93a647"
      },
      "execution_count": 17,
      "outputs": [
        {
          "output_type": "execute_result",
          "data": {
            "text/plain": [
              "'Chocolate com menta'"
            ],
            "application/vnd.google.colaboratory.intrinsic+json": {
              "type": "string"
            }
          },
          "metadata": {},
          "execution_count": 17
        }
      ]
    },
    {
      "cell_type": "markdown",
      "metadata": {
        "id": "AnMCFa1d2Ojz"
      },
      "source": [
        "# Questão 7"
      ]
    },
    {
      "cell_type": "markdown",
      "metadata": {
        "id": "A6Hut_1Y2Ojz"
      },
      "source": [
        "Suponha que você esteja desenvolvendo um aplicativo de previsão do tempo que fornece informações meteorológicas detalhadas para ajudar as pessoas a planejarem suas atividades ao ar livre. Para isso, é necessário criar uma função que exiba um calendário mensal com previsões meteorológicas para que os usuários possam visualizar o clima ao longo do mês.\n",
        "\n",
        "Vou criar a função exibir_calendario_meteorologico que aceita dois argumentos: o ano e o mês para os quais você deseja visualizar o calendário meteorológico. A função vai retornar uma representação do calendário do mês especificado, mostrando os dias da semana e os números dos dias do mês."
      ]
    },
    {
      "cell_type": "code",
      "execution_count": 18,
      "metadata": {
        "colab": {
          "base_uri": "https://localhost:8080/"
        },
        "id": "Ab-I-eQs2Ojz",
        "outputId": "63875602-1c0b-4574-c464-6f34cf1b7122"
      },
      "outputs": [
        {
          "output_type": "stream",
          "name": "stdout",
          "text": [
            "      May 2024\n",
            "Mo Tu We Th Fr Sa Su\n",
            "       1  2  3  4  5\n",
            " 6  7  8  9 10 11 12\n",
            "13 14 15 16 17 18 19\n",
            "20 21 22 23 24 25 26\n",
            "27 28 29 30 31\n",
            "\n"
          ]
        }
      ],
      "source": [
        "#####SEU CODIGO COMECA AQUI#####\n",
        "\n",
        "import calendar #lembre-se da lista passada\n",
        "\n",
        "def exibir_calendario_meteorologico(ano, mes):\n",
        "   calendario = calendar.month(ano,mes)\n",
        "   print(calendario)\n",
        "\n",
        "# o que essa função faz é tomar como argumento o ano e o mês desejado e aplicar a função .month da biblioteca calendar, e depois exibir o resultado.\n",
        "# a distinção disso para apenas utilizar .month é que podemos apenas mudar o ano e o mês sem ter que reescrever o código toda vez.\n",
        "\n",
        "exibir_calendario_meteorologico(2024, 5)"
      ]
    },
    {
      "cell_type": "markdown",
      "metadata": {
        "id": "ojZGs5is2Ojz"
      },
      "source": [
        "# Questão 8"
      ]
    },
    {
      "cell_type": "markdown",
      "metadata": {
        "id": "vfIrZu7H2Ojz"
      },
      "source": [
        "Imagine que você é um organizador de eventos e está planejando uma festa temática de \"Guloseimas Festivas\" para comemorar o final do ano. Você deseja criar um programa para contar a quantidade de guloseimas que serão distribuídas durante a festa. Crie uma função chamada contar_guloseimas que simula a contagem de guloseimas."
      ]
    },
    {
      "cell_type": "code",
      "execution_count": 19,
      "metadata": {
        "colab": {
          "base_uri": "https://localhost:8080/"
        },
        "id": "WT2VCwQo2Oj1",
        "outputId": "7af978a8-731b-48ee-b824-7efd635cfabc"
      },
      "outputs": [
        {
          "output_type": "execute_result",
          "data": {
            "text/plain": [
              "{'chocolate': 2, 'pirulito': 3, 'caramelo': 1}"
            ]
          },
          "metadata": {},
          "execution_count": 19
        }
      ],
      "source": [
        "##### seu código começa aqui\n",
        "guloseimas = [\"chocolate\", \"chocolate\", \"pirulito\", \"caramelo\", \"pirulito\", \"pirulito\"]\n",
        "\n",
        "def contar_guloseimas(guloseimas):\n",
        "    contagem = {} # definimos um dicionário inicialmente vazio.\n",
        "    for guloseima in guloseimas:\n",
        "        if guloseima in contagem: # caso a guloseima já tenha sido considerada em contagem, somamos 1 ao valor associado a aquela guloseima no dicionário.\n",
        "            contagem[guloseima] += 1\n",
        "        else:\n",
        "            contagem[guloseima] = 1 # caso contrário, basta igualarmos o valor associado à 1.\n",
        "    return contagem # retorna esse dicionário, iterado para cada elemento na lista guloseimas.\n",
        "\n",
        "contar_guloseimas(guloseimas)"
      ]
    },
    {
      "cell_type": "markdown",
      "metadata": {
        "id": "hMNhZ57l2Oj2"
      },
      "source": [
        "# DESAFIO"
      ]
    },
    {
      "cell_type": "markdown",
      "metadata": {
        "id": "02hLvZ8X2Oj2"
      },
      "source": [
        "Para o desafio vamos criar um jogo de bingo onde a pessoa deve pressionar \"Enter\" para sortear cada número. Os números sorteados estão limitados a um intervalo de 1 a 20.\n",
        "\n",
        "**Instruções:**\n",
        "\n",
        "Crie uma função chamada sortear_bingo que não aceita argumentos.\n",
        "\n",
        "Inicialize uma lista vazia chamada numeros_sorteados para acompanhar os números sorteados.\n",
        "\n",
        "Inicialize uma cartela de bingo com números de 1 a 20. A cartela pode ser uma lista de 3 listas com 3 números cada. Cada número deve ser único na cartela.\n",
        "\n",
        "Utilize um loop para simular o sorteio de números de 1 a 20. Certifique-se de que os números sorteados sejam únicos.\n",
        "\n",
        "Exiba cada número sorteado na tela e a cartela do jogador.\n",
        "\n",
        "Peça à pessoa que pressione \"Enter\" para sortear o próximo número a cada rodada.\n",
        "\n",
        "Marque o número sorteado na cartela do jogador.\n",
        "\n",
        "Continue o sorteio até que todos os números de 1 a 20 tenham sido sorteados. Quando isso acontecer, exiba \"Bingo!\"."
      ]
    },
    {
      "cell_type": "code",
      "execution_count": 68,
      "metadata": {
        "id": "IUnzNctG2Oj2"
      },
      "outputs": [],
      "source": [
        "##seu codigo começa aqui\n",
        "\n",
        "cartela_jogador = [\n",
        "    [1,8,10],\n",
        "    [5,3,7],\n",
        "    [2,6,9],\n",
        "]"
      ]
    }
  ],
  "metadata": {
    "kernelspec": {
      "display_name": "Python 3 (ipykernel)",
      "language": "python",
      "name": "python3"
    },
    "language_info": {
      "codemirror_mode": {
        "name": "ipython",
        "version": 3
      },
      "file_extension": ".py",
      "mimetype": "text/x-python",
      "name": "python",
      "nbconvert_exporter": "python",
      "pygments_lexer": "ipython3",
      "version": "3.11.3"
    },
    "colab": {
      "provenance": []
    }
  },
  "nbformat": 4,
  "nbformat_minor": 0
}