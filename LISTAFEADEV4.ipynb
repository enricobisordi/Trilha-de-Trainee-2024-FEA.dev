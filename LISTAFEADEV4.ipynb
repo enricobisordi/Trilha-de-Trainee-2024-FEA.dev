{
 "cells": [
  {
   "cell_type": "markdown",
   "id": "c69520d8",
   "metadata": {
    "id": "c69520d8"
   },
   "source": [
    "![image.png](attachment:image.png)"
   ]
  },
  {
   "cell_type": "markdown",
   "id": "825e29d3",
   "metadata": {
    "id": "825e29d3"
   },
   "source": [
    "### Fala devs, blz?\n",
    "\n",
    "Temos a honra de apresentar nossa 4ᵃ (quarta) lista de exercícios do Curso de Python 2023 ! 🥳\n",
    "\n",
    "Dessa vez o tema será o módulo 2, que retrata sobre importações de bibliotecas e sobre a biblioteca _Numpy_ - muito importante para realização de códigos matemáticos e melhora de desempenho das operações.\n",
    "\n",
    "Esperamos que seja um estudo produtivo e que se divirtam aprendendo!"
   ]
  },
  {
   "cell_type": "markdown",
   "id": "a3ca22ba",
   "metadata": {
    "id": "a3ca22ba"
   },
   "source": [
    "---\n",
    "### INSTRUÇÕES:\n",
    "\n",
    "A realização da lista deve ser feita através do Jupyter Notebook.\n",
    "\n",
    "Não é obrigatório enviar a lista para fins de certificação na plataforma. No entanto, para os alunos da USP interessados em participar do processo seletivo ou obter créditos AAC (apenas FEANOS), é necessário enviar TODAS as listas.\n",
    "\n",
    "É altamente recomendado enviar as listas ou, pelo menos, executá-las para praticar todo o conhecimento adquirido durante o curso.\n",
    "\n",
    "Este DESAFIO foi elaborado para desafiá-lo de verdade. Por isso, não desista de tentar e de continuar com o curso. Ao longo das listas, você perceberá que terá cada vez mais ferramentas para completá-las.\n",
    "\n",
    "Se surgirem dúvidas sobre a lista, participe das monitorias que serão realizadas às quintas e sábados, das 17h às 18h, no DISCORD. Se o problema não for resolvido, envie uma mensagem para contato.feadev@gmail.com.\n",
    "\n",
    "O gabarito será disponibilizado na plataforma após o término do período de envio.\n",
    "\n",
    "---"
   ]
  },
  {
   "cell_type": "code",
   "execution_count": 3,
   "id": "759ed448",
   "metadata": {
    "id": "759ed448"
   },
   "outputs": [],
   "source": [
    "# Vamos começar importando algumas bibliotecas importantes para os exercícios. ps: Escolham o método que desejarem para resolução.\n",
    "import math\n",
    "import numpy as np\n",
    "import random as rd\n",
    "import datetime"
   ]
  },
  {
   "cell_type": "markdown",
   "id": "66410d56",
   "metadata": {
    "id": "66410d56"
   },
   "source": [
    "---\n",
    "## Questão 0\n",
    "\n",
    "\n",
    "<h3> Dr. Python </h3>\n",
    "\n",
    "\n",
    "![gif](https://media.giphy.com/media/v1.Y2lkPTc5MGI3NjExdnZjMmd5ZzRiOHVka3VkZmlwZXBkNm1lNndyMjU2NzB6ZWxkajV4ciZlcD12MV9pbnRlcm5hbF9naWZfYnlfaWQmY3Q9Zw/9J7tdYltWyXIY/giphy.gif)\n",
    "\n",
    "Você foi contratado por uma investidora misteriosa - notavelmente muito rica e influente - para resolver um problema com a internet. Ele está tendo problemas de acesso e percebe que isso é causado por um vírus codificado por uma charada. Sabendo que a única forma de resolver seria acionar um especialista, ela decide te pagar muito dinheiro e a possibilidade de ser contratado por uma grande empresa caso consiga resolver o enigma do vírus.\n",
    "\n",
    "\n",
    "Segue o texto originado pelo vírus:\n",
    "\n",
    "#### _\"Dois números um, onde há 3 torna-se 5, coloque dois zeros ao fundo, trate de juntar tudo e retorno seu acesso ao WebMundo!\"_\n",
    "\n",
    "\n",
    "<br>\n",
    "\n",
    "Juntamente ao texto, o vírus fornece o espaço a seguir com alguns algoritmos e arrays para auxiliar na resolução do caso:"
   ]
  },
  {
   "cell_type": "code",
   "execution_count": 11,
   "id": "8f0b70c3",
   "metadata": {
    "colab": {
     "base_uri": "https://localhost:8080/"
    },
    "id": "8f0b70c3",
    "outputId": "e23055ed-1721-4db7-807a-72db02afe789"
   },
   "outputs": [
    {
     "name": "stdout",
     "output_type": "stream",
     "text": [
      "[1.0, 1.0] [3, 3] [0.0, 0.0]\n"
     ]
    }
   ],
   "source": [
    "# Algoritmo viral\n",
    "lista_um = list(np.ones(2))\n",
    "lista_dois = [3,3]\n",
    "lista_tres = list(np.zeros(2))\n",
    "\n",
    "print(lista_um, lista_dois, lista_tres)"
   ]
  },
  {
   "cell_type": "markdown",
   "id": "a803da3c",
   "metadata": {
    "id": "a803da3c"
   },
   "source": [
    "\n",
    "Tendo ciência da informação acima descrita, crie um código que _concatene as listas em um array_, lembrando de _alterar os valores_ necessários para _satisfazer a condição_ do vírus (\"onde há 3 torna-se 5...\")\n",
    "<br>"
   ]
  },
  {
   "cell_type": "code",
   "execution_count": 20,
   "id": "76853966",
   "metadata": {
    "colab": {
     "base_uri": "https://localhost:8080/"
    },
    "id": "76853966",
    "outputId": "d421674a-8563-4fab-d94c-5bf62ef5fe9c"
   },
   "outputs": [
    {
     "data": {
      "text/plain": [
       "array([1., 1., 5., 5., 0., 0.])"
      ]
     },
     "execution_count": 20,
     "metadata": {},
     "output_type": "execute_result"
    }
   ],
   "source": [
    "# Seu código começa aqui\n",
    "\n",
    "# uma opção viável é simplesmente trocar 3 por 5 via indexação. é o que este código está fazendo. \n",
    "lista_dois[0] = 5\n",
    "lista_dois[1] = 5\n",
    "\n",
    "# depois, podemos somar as listas em uma só, e utilizar np.array para transformar em um array\n",
    "lista_concatenada = lista_um + lista_dois + lista_tres\n",
    "array_final = np.array(lista_concatenada)\n",
    "array_final\n",
    "\n",
    "#outra opção para trocar 3 por 5 seria utilizando list compreheensions. o código está na próxima célula."
   ]
  },
  {
   "cell_type": "code",
   "execution_count": 19,
   "id": "ca0316a0-9fb9-4953-9f07-f9d9f42108c0",
   "metadata": {},
   "outputs": [
    {
     "data": {
      "text/plain": [
       "array([1., 1., 5., 5., 0., 0.])"
      ]
     },
     "execution_count": 19,
     "metadata": {},
     "output_type": "execute_result"
    }
   ],
   "source": [
    "lista_dois = [5 if x == 3 else x for x in lista_dois] # utiliza de condicionais para achar os valores '3', e os troca por '5'.\n",
    "\n",
    "lista_concatenada = lista_um + lista_dois + lista_tres\n",
    "array_final2 = np.array(lista_concatenada) # termina da mesma maneira.\n",
    "array_final2\n",
    "\n",
    "# a vantagem deste método é não ter que fazer cada um manualmente e não precisar saber o índice de cada valor '3'."
   ]
  },
  {
   "cell_type": "markdown",
   "id": "44524c95",
   "metadata": {
    "id": "44524c95"
   },
   "source": [
    "---\n",
    "## Questão 1\n",
    "\n",
    "### Cien Tenpo"
   ]
  },
  {
   "cell_type": "markdown",
   "id": "c8c09d9a",
   "metadata": {
    "id": "c8c09d9a"
   },
   "source": [
    "![gif](https://media.giphy.com/media/v1.Y2lkPTc5MGI3NjExZTZqd3YxNTgyemQyNXE5ODBtYmM5ZTVhbXEwYXZvbzg2YjJoODh4aCZlcD12MV9pbnRlcm5hbF9naWZfYnlfaWQmY3Q9Zw/QBd2kLB5qDmysEXre9/giphy.gif)"
   ]
  },
  {
   "cell_type": "markdown",
   "id": "6a7e1d3c",
   "metadata": {
    "id": "6a7e1d3c"
   },
   "source": [
    "Seu amigo acaba de chegar de outro país e se encontra muito confuso com o fuso horário novo e todas as nomenclaturaas. Sabendo do seus conhecimentos em programação, ele decide pedir ajuda para saber a hora com um simples executar de código.\n",
    "\n",
    "<br>\n",
    "\n",
    "Pensando nisso, crie um script utilizando a biblioteca _datetime_ que retorne a data atual junto a hora. Armazene em uma variável e exiba com uma mensagem amigável para seu amigo como o exemplo a seguir:\n",
    "\n",
    "\"Olá Cien Tenpo, segue a data e horário em nosso fuso: DATA\"\n",
    "\n",
    "---\n",
    "\n",
    "###### ps: Caso tenha alguma dúvida com essa biblioteca, pode consultar aqui um exemplo de como usar:\n",
    "\n",
    "https://www.w3schools.com/python/python_datetime.asp"
   ]
  },
  {
   "cell_type": "code",
   "execution_count": 27,
   "id": "645b48e6",
   "metadata": {
    "colab": {
     "base_uri": "https://localhost:8080/"
    },
    "id": "645b48e6",
    "outputId": "3112718d-6558-4f2f-db4d-0e2bbee34cee",
    "scrolled": true
   },
   "outputs": [
    {
     "name": "stdout",
     "output_type": "stream",
     "text": [
      "Olá Cien Tenpo, segue a data e horário em nosso fuso: 2024-06-12 19:51:02\n"
     ]
    }
   ],
   "source": [
    "# Seu código começa aqui\n",
    "from datetime import datetime\n",
    "\n",
    "data_hora_atual = datetime.now() # pega a data e hora atual\n",
    "data_formatada = data_hora_atual.strftime(\"%Y-%m-%d %H:%M:%S\") # definindo como deve ser formatada a data\n",
    "\n",
    "#print final\n",
    "print(f\"Olá Cien Tenpo, segue a data e horário em nosso fuso: {data_formatada}\")"
   ]
  },
  {
   "cell_type": "markdown",
   "id": "ce81d7d2",
   "metadata": {
    "id": "ce81d7d2"
   },
   "source": [
    "---\n",
    "## Questão 2\n",
    "\n",
    "### Sorteando o sorteio\n",
    "\n",
    "Em um passeio qualquer pela sua cidade, você descobre uma oportunidade incrível de visitar um bingo famoso da cidade em que aquele que sorteia as bolinhas ganha o seu doce preferido como salário. Não querendo perder essa chance, você decide dar uma chance para a vaga e acaba sendo encarregado pela função. Nesse sentido, te passam instruções essenciais para você receber sua recompensa:\n",
    "- Você deve sortear e exibir cada número no telão\n",
    "- Após exibir, você deve organizar em ordem crescente os valores no telão\n",
    "- Ao final, a caixa precisa estar disposta com os valores indo de 1 até 20 em ordem crescente\n",
    "\n",
    "Segue um código abaixo com os valores a serem sorteados:"
   ]
  },
  {
   "cell_type": "code",
   "execution_count": 45,
   "id": "acc8b5b8",
   "metadata": {
    "id": "acc8b5b8"
   },
   "outputs": [],
   "source": [
    "# Bolinhas a serem sorteadas\n",
    "\n",
    "numeros_caixa = list(range(1,21,1))\n",
    "# numero_aleatorio = rd.choice(numeros_caixa)"
   ]
  },
  {
   "cell_type": "markdown",
   "id": "18a1dd78",
   "metadata": {
    "id": "18a1dd78"
   },
   "source": [
    "Sabendo disso, faça um script que _rode todos os números na caixa e sorteie valor a valor_, _exibindo-os no telão_ (printando) e logo em seguida já _organizando em ordem crescente(sort)_:"
   ]
  },
  {
   "cell_type": "code",
   "execution_count": 66,
   "id": "f1626a75",
   "metadata": {
    "id": "f1626a75"
   },
   "outputs": [
    {
     "name": "stdout",
     "output_type": "stream",
     "text": [
      "Sorteado: 2\n",
      "Números organizados em ordem crescente: [2]\n",
      "Sorteado: 16\n",
      "Números organizados em ordem crescente: [2, 16]\n",
      "Sorteado: 7\n",
      "Números organizados em ordem crescente: [2, 7, 16]\n",
      "Sorteado: 6\n",
      "Números organizados em ordem crescente: [2, 6, 7, 16]\n",
      "Sorteado: 13\n",
      "Números organizados em ordem crescente: [2, 6, 7, 13, 16]\n",
      "Sorteado: 3\n",
      "Números organizados em ordem crescente: [2, 3, 6, 7, 13, 16]\n",
      "Sorteado: 18\n",
      "Números organizados em ordem crescente: [2, 3, 6, 7, 13, 16, 18]\n",
      "Sorteado: 20\n",
      "Números organizados em ordem crescente: [2, 3, 6, 7, 13, 16, 18, 20]\n",
      "Sorteado: 14\n",
      "Números organizados em ordem crescente: [2, 3, 6, 7, 13, 14, 16, 18, 20]\n",
      "Sorteado: 5\n",
      "Números organizados em ordem crescente: [2, 3, 5, 6, 7, 13, 14, 16, 18, 20]\n",
      "Sorteado: 11\n",
      "Números organizados em ordem crescente: [2, 3, 5, 6, 7, 11, 13, 14, 16, 18, 20]\n",
      "Sorteado: 19\n",
      "Números organizados em ordem crescente: [2, 3, 5, 6, 7, 11, 13, 14, 16, 18, 19, 20]\n",
      "Sorteado: 9\n",
      "Números organizados em ordem crescente: [2, 3, 5, 6, 7, 9, 11, 13, 14, 16, 18, 19, 20]\n",
      "Sorteado: 8\n",
      "Números organizados em ordem crescente: [2, 3, 5, 6, 7, 8, 9, 11, 13, 14, 16, 18, 19, 20]\n",
      "Sorteado: 17\n",
      "Números organizados em ordem crescente: [2, 3, 5, 6, 7, 8, 9, 11, 13, 14, 16, 17, 18, 19, 20]\n",
      "Sorteado: 10\n",
      "Números organizados em ordem crescente: [2, 3, 5, 6, 7, 8, 9, 10, 11, 13, 14, 16, 17, 18, 19, 20]\n",
      "Sorteado: 12\n",
      "Números organizados em ordem crescente: [2, 3, 5, 6, 7, 8, 9, 10, 11, 12, 13, 14, 16, 17, 18, 19, 20]\n",
      "Sorteado: 1\n",
      "Números organizados em ordem crescente: [1, 2, 3, 5, 6, 7, 8, 9, 10, 11, 12, 13, 14, 16, 17, 18, 19, 20]\n",
      "Sorteado: 4\n",
      "Números organizados em ordem crescente: [1, 2, 3, 4, 5, 6, 7, 8, 9, 10, 11, 12, 13, 14, 16, 17, 18, 19, 20]\n",
      "Sorteado: 15\n",
      "Números organizados em ordem crescente: [1, 2, 3, 4, 5, 6, 7, 8, 9, 10, 11, 12, 13, 14, 15, 16, 17, 18, 19, 20]\n"
     ]
    }
   ],
   "source": [
    "# Seu código começa aqui\n",
    "\n",
    "numeros_caixa = list(range(1, 21))\n",
    "\n",
    "sorteados = [] # inicializa uma lista vazia, à qual vamos inserir os números sorteados.\n",
    "for _ in range(len(numeros_caixa)): # utiliza de um loop for para, para cada elemento de 1 a 20, sortear um, adicioná-lo à lista zerada e removê-lo da lista numeros_caixa, sequencialmente.\n",
    "    \n",
    "    numero_aleatorio = rd.choice(numeros_caixa)\n",
    "    \n",
    "    sorteados.append(numero_aleatorio) \n",
    "    numeros_caixa.remove(numero_aleatorio)\n",
    "    \n",
    "    print(f\"Sorteado: {numero_aleatorio}\") # vai printando cada número\n",
    "    \n",
    "    sorteados.sort() # organizamos em ordem crescente e printamos o resultado final.\n",
    "    print(\"Números organizados em ordem crescente:\", sorteados)\n",
    "\n",
    "# obs: interpretei que o que o exercício queria era printar diversas vezes a ordem crescente a cada sorteio, e não apenas uma vez no final.\n",
    "# senti que faz mais sentido, considerando que na outra opção seria sempre a mesma lista de 1 a 20 em ordem crescente (última linha do meu output)"
   ]
  },
  {
   "cell_type": "markdown",
   "id": "e65e9423",
   "metadata": {
    "id": "e65e9423"
   },
   "source": [
    "---\n",
    "## Questão 3\n",
    "\n",
    "### Realizando alguns cálculos\n",
    "![GIF](https://media.giphy.com/media/21I1WOUDnct4EmSNa6/giphy.gif)\n",
    "\n",
    "Cansado de viver uma vida de bicos em bingos e resolvendo problemas de pessoas ricas, você opta pela vida estável como contador. Logo que começa em seu emprego seu chefe já te passa uma simples demanda: Somar os arranjos de valores que sejam compatíveis!\n",
    "\n",
    "<br>\n",
    "\n",
    "Você como bom dever não vê dificuldade e já parte para resolver o código de imediato utilizando a biblioteca numpy em Python, se deparando com os seguintes arrays transcritos:"
   ]
  },
  {
   "cell_type": "code",
   "execution_count": 68,
   "id": "b63e7c54",
   "metadata": {
    "id": "b63e7c54"
   },
   "outputs": [],
   "source": [
    "# Arranjos\n",
    "Arranjo_1 = np.array([[1, 2, 3],\n",
    "                      [4, 5, 6]])\n",
    "\n",
    "Arranjo_2 = np.array([[13, 14],\n",
    "                      [15, 16],\n",
    "                      [17, 18]])\n",
    "\n",
    "Arranjo_3 = np.array([[7, 8, 9],\n",
    "                      [10, 11, 12]])"
   ]
  },
  {
   "cell_type": "markdown",
   "id": "dd2c9898",
   "metadata": {
    "id": "dd2c9898"
   },
   "source": [
    "Agora, selecione os arrays que são compatíveis e crie um código simples que realize a soma desses arrays."
   ]
  },
  {
   "cell_type": "code",
   "execution_count": 74,
   "id": "99709d62",
   "metadata": {
    "id": "99709d62"
   },
   "outputs": [
    {
     "data": {
      "text/plain": [
       "array([[ 8, 10, 12],\n",
       "       [14, 16, 18]])"
      ]
     },
     "execution_count": 74,
     "metadata": {},
     "output_type": "execute_result"
    }
   ],
   "source": [
    "# Seu código começa aqui\n",
    "\n",
    "# os arrays compatíveis para soma são 1 e 3. \n",
    "\n",
    "soma = Arranjo_1 + Arranjo_3\n",
    "\n",
    "soma"
   ]
  },
  {
   "cell_type": "code",
   "execution_count": 106,
   "id": "77e5ad7b-490c-47f1-b2eb-33ffbca2638b",
   "metadata": {},
   "outputs": [
    {
     "data": {
      "text/plain": [
       "array([[21, 28],\n",
       "       [25, 32],\n",
       "       [29, 36]])"
      ]
     },
     "execution_count": 106,
     "metadata": {},
     "output_type": "execute_result"
    }
   ],
   "source": [
    "# se quisermos podemos transpor o arranjo soma para possibilitar a soma dele ao arranjo 2:\n",
    "\n",
    "soma_tranposto = soma.T\n",
    "soma2 = soma_tranposto + Arranjo_2\n",
    "soma2"
   ]
  },
  {
   "cell_type": "markdown",
   "id": "c712ea85",
   "metadata": {
    "id": "c712ea85"
   },
   "source": [
    "## Questão 4\n",
    "### Mediano\n",
    "Seu chefe, notando o sucesso no demanda anterior, te passa já uma nova tarefa: Calcular a diferença entre a média dos três arranjos.\n",
    "\n",
    "---\n",
    "Seguindo a lógica, use os valores da questão anterior para criar um código que realize o cálculo da diferença entre as médias."
   ]
  },
  {
   "cell_type": "code",
   "execution_count": 115,
   "id": "9a8590da",
   "metadata": {
    "id": "9a8590da"
   },
   "outputs": [
    {
     "data": {
      "text/plain": [
       "-21.5"
      ]
     },
     "execution_count": 115,
     "metadata": {},
     "output_type": "execute_result"
    }
   ],
   "source": [
    "# Seu código começa aqui\n",
    "\n",
    "# utilizando np.mean() para obter a média dos valores de cada arranjo: \n",
    "\n",
    "media1 = np.mean(Arranjo_1)\n",
    "media2 = np.mean(Arranjo_2)\n",
    "media3 = np.mean(Arranjo_3)\n",
    "\n",
    "diferenca = media1 - media2 - media3 # obs: assumi media1 - media2 - media3, mas poderíamos fazer, por exemplo, media3 - media2 - media1. \n",
    "diferenca\n",
    "\n",
    "# ou ainda poderiamos calcular de 2 em 2 a diferença entre as médias, como na próxima célula:"
   ]
  },
  {
   "cell_type": "code",
   "execution_count": 129,
   "id": "63a626ab-71cb-4ffd-8b7a-d385b0848296",
   "metadata": {},
   "outputs": [
    {
     "name": "stdout",
     "output_type": "stream",
     "text": [
      "-12.0 -6.0 6.0\n"
     ]
    }
   ],
   "source": [
    "diferenca1_2 = media1 - media2\n",
    "diferenca1_3 = media1 - media3\n",
    "diferenca2_3 = media2 - media3\n",
    "\n",
    "print(diferenca1_2, diferenca1_3, diferenca2_3)"
   ]
  },
  {
   "cell_type": "markdown",
   "id": "842a5c9e",
   "metadata": {
    "id": "842a5c9e"
   },
   "source": [
    "---\n",
    "## DESAFIO\n",
    "\n",
    "### Filtrando (um café matemágico ?)\n",
    "\n",
    "![gif](https://media.giphy.com/media/v1.Y2lkPTc5MGI3NjExN3RrbG9uMG53azM4MHhxemtrNzdvbTYxNTA1NzhwaHozeDFnZmI3OCZlcD12MV9pbnRlcm5hbF9naWZfYnlfaWQmY3Q9Zw/OV2uRXy5VIBoPAsH9A/giphy.gif)\n",
    "\n",
    "Poderia ser um desafio interessante tomar um café matemático?\n",
    "\n",
    "<br>\n",
    "\n",
    "A proposta desse desafio é justamente testar essa hipótese !\n",
    "\n",
    "Temos uma sequência de arranjos que correspondem a \"camadas\" do café e precisamos ir afunilando e remodelando para que possamos ir somando até formar um único valor (que corresponde ao nosso \"café filtrado\").\n",
    "\n",
    "##### PS: alguns grãos estão acima do valor máximo que a cafeteira suporte. Substitua grãos maiores que 50 (gramas) pelo valor 30"
   ]
  },
  {
   "cell_type": "code",
   "execution_count": 127,
   "id": "96892800",
   "metadata": {
    "id": "96892800"
   },
   "outputs": [],
   "source": [
    "# Camadas de grãos de café para serem filtrados. Para fins didáticos imagine que são grãos inteiros e isso não afeta o processo\n",
    "# Camadas de grãos de café para serem filtrados. Para fins didáticos imagine que são grãos inteiros e isso não afeta o processo\n",
    "camada_1 = np.array([[5, 2, 7],\n",
    "                     [12, 5, 9]])\n",
    "\n",
    "camada_2 = np.array([[15, 8],\n",
    "                     [4, 10],\n",
    "                     [52, 65]])\n",
    "\n",
    "camada_3 = np.array([[17, 11, 19],\n",
    "                     [6, 22, 26]])\n",
    "\n",
    "camada_4 = np.array([[78, 15],\n",
    "                     [16, 23],\n",
    "                     [12, 32]])"
   ]
  },
  {
   "cell_type": "markdown",
   "id": "c07d340a",
   "metadata": {
    "id": "c07d340a"
   },
   "source": [
    "Tendo essas camadas em vista, crie um código que remodele (reshape/resize) os arranjos para uma dimensão comum e possibilite a soma. Ao final printe a soma de todos os valores.\n",
    "\n",
    "_Lembre-se de corrigir grãos maiores que 50 para um valor 30 (seria uma margem de erro para a máquina)_"
   ]
  },
  {
   "cell_type": "code",
   "execution_count": 128,
   "id": "30ea50d0",
   "metadata": {
    "id": "30ea50d0"
   },
   "outputs": [
    {
     "name": "stdout",
     "output_type": "stream",
     "text": [
      "Total dos valores: 366\n"
     ]
    }
   ],
   "source": [
    "# Seu código começa aqui\n",
    "\n",
    "camada_2 = camada_2.reshape(2, 3) # podemos manter as camadas 1 e 3, e reshape as camadas 2 e 4 para o formato comum.\n",
    "camada_4 = camada_4.reshape(2, 3)\n",
    "\n",
    "# utilizando uma indexação booleana para eliminar os elementos maiores que 50 em todas as camadas (embora nem todas tenham valores maiores que 50)\n",
    "camada_1[camada_1 > 50] = 30\n",
    "camada_2[camada_2 > 50] = 30\n",
    "camada_3[camada_3 > 50] = 30\n",
    "camada_4[camada_4 > 50] = 30\n",
    "\n",
    "# somando tudo, utilizando np.sum():\n",
    "soma_total = np.sum(camada_1 + camada_2 + camada_3 + camada_4)\n",
    "\n",
    "print('Total dos valores:', soma_total)"
   ]
  }
 ],
 "metadata": {
  "colab": {
   "provenance": []
  },
  "kernelspec": {
   "display_name": "Python 3 (ipykernel)",
   "language": "python",
   "name": "python3"
  },
  "language_info": {
   "codemirror_mode": {
    "name": "ipython",
    "version": 3
   },
   "file_extension": ".py",
   "mimetype": "text/x-python",
   "name": "python",
   "nbconvert_exporter": "python",
   "pygments_lexer": "ipython3",
   "version": "3.12.2"
  }
 },
 "nbformat": 4,
 "nbformat_minor": 5
}
